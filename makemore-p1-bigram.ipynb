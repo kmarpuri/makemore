{
 "cells": [
  {
   "metadata": {
    "ExecuteTime": {
     "end_time": "2025-08-14T20:21:45.936463Z",
     "start_time": "2025-08-14T20:21:45.412502Z"
    }
   },
   "cell_type": "code",
   "source": [
    "import torch\n",
    "import torch.nn.functional as F"
   ],
   "id": "b9a788c1791aa7ea",
   "outputs": [],
   "execution_count": 1
  },
  {
   "metadata": {
    "ExecuteTime": {
     "end_time": "2025-08-14T20:22:01.783194Z",
     "start_time": "2025-08-14T20:22:01.774001Z"
    }
   },
   "cell_type": "code",
   "source": [
    "words = open('names.txt', 'r').read().splitlines()\n",
    "chars = sorted(set(''.join(words)))\n",
    "stoi = {s:i+1 for i, s in enumerate(chars)}\n",
    "stoi['.'] = 0\n",
    "itos = {i:s for s, i in stoi.items()}"
   ],
   "id": "ff9f32a897490",
   "outputs": [],
   "execution_count": 2
  },
  {
   "metadata": {
    "collapsed": true,
    "ExecuteTime": {
     "end_time": "2025-08-14T20:22:04.993307Z",
     "start_time": "2025-08-14T20:22:04.927643Z"
    }
   },
   "cell_type": "code",
   "source": [
    "xs, ys = [], []\n",
    "\n",
    "for w in words[:]:\n",
    "    chs = ['.'] + list(w) + ['.']\n",
    "    for ch1, ch2 in zip(chs, chs[1:]):\n",
    "        ix1 = stoi[ch1]\n",
    "        ix2 = stoi[ch2]\n",
    "        xs.append(ix1)\n",
    "        ys.append(ix2)\n",
    "\n",
    "xs = torch.tensor(xs)\n",
    "ys = torch.tensor(ys)\n",
    "num = xs.nelement()"
   ],
   "id": "d82027813e21120f",
   "outputs": [],
   "execution_count": 3
  },
  {
   "metadata": {
    "ExecuteTime": {
     "end_time": "2025-08-14T20:22:23.263291Z",
     "start_time": "2025-08-14T20:22:23.260410Z"
    }
   },
   "cell_type": "code",
   "source": [
    "g = torch.Generator().manual_seed(2147483647)\n",
    "W = torch.randn((27, 27), generator=g, requires_grad=True)"
   ],
   "id": "42d8bf6b6026c784",
   "outputs": [],
   "execution_count": 4
  },
  {
   "metadata": {
    "ExecuteTime": {
     "end_time": "2025-08-14T20:23:30.734019Z",
     "start_time": "2025-08-14T20:23:30.711310Z"
    }
   },
   "cell_type": "code",
   "source": [
    "xenc = F.one_hot(xs, num_classes=27).float()\n",
    "logits = xenc @ W\n",
    "counts = logits.exp()\n",
    "probs = counts/counts.sum(1, keepdim=True)\n",
    "loss = -probs[torch.arange(num), ys].log().mean() + 0.01*(W**2).mean()"
   ],
   "id": "6fbb47d7a23fad7a",
   "outputs": [],
   "execution_count": 6
  },
  {
   "metadata": {
    "ExecuteTime": {
     "end_time": "2025-08-14T20:23:38.267769Z",
     "start_time": "2025-08-14T20:23:38.225947Z"
    }
   },
   "cell_type": "code",
   "source": [
    "W.grad = None\n",
    "loss.backward()"
   ],
   "id": "ae22cdc85c53ce18",
   "outputs": [],
   "execution_count": 7
  },
  {
   "metadata": {
    "ExecuteTime": {
     "end_time": "2025-08-14T20:23:46.057304Z",
     "start_time": "2025-08-14T20:23:46.054602Z"
    }
   },
   "cell_type": "code",
   "source": "W.data += -0.1 * W.grad",
   "id": "9669488c303a3f74",
   "outputs": [],
   "execution_count": 8
  },
  {
   "metadata": {
    "ExecuteTime": {
     "end_time": "2025-08-14T20:24:57.208194Z",
     "start_time": "2025-08-14T20:24:42.912298Z"
    }
   },
   "cell_type": "code",
   "source": [
    "for k in range(1000):\n",
    "    xenc = F.one_hot(xs, num_classes=27).float()\n",
    "    logits = xenc @ W\n",
    "    counts = logits.exp()\n",
    "    probs = counts/counts.sum(1, keepdim=True)\n",
    "    loss = -probs[torch.arange(num), ys].log().mean() + 0.01*(W**2).mean()\n",
    "\n",
    "    W.grad = None\n",
    "    loss.backward()\n",
    "\n",
    "    W.data += -1 * W.grad"
   ],
   "id": "d91480c418d4cafb",
   "outputs": [],
   "execution_count": 12
  },
  {
   "metadata": {
    "ExecuteTime": {
     "end_time": "2025-08-14T20:24:57.213275Z",
     "start_time": "2025-08-14T20:24:57.211444Z"
    }
   },
   "cell_type": "code",
   "source": "print(loss.item())",
   "id": "edc69088a7230a0e",
   "outputs": [
    {
     "name": "stdout",
     "output_type": "stream",
     "text": [
      "2.5221939086914062\n"
     ]
    }
   ],
   "execution_count": 13
  },
  {
   "metadata": {
    "ExecuteTime": {
     "end_time": "2025-08-14T20:25:25.627882Z",
     "start_time": "2025-08-14T20:25:25.620253Z"
    }
   },
   "cell_type": "code",
   "source": [
    "g = torch.Generator().manual_seed(2147483647)\n",
    "for i in range(5):\n",
    "    out = []\n",
    "    ix = 0\n",
    "    while True:\n",
    "        xenc = F.one_hot(torch.tensor([ix]), num_classes=27).float()\n",
    "        logits = xenc @ W\n",
    "        counts = logits.exp()\n",
    "        p = counts/counts.sum(1, keepdim=True)\n",
    "\n",
    "        ix = torch.multinomial(p, num_samples=1, replacement=True, generator=g).item()\n",
    "        if ix == 0:\n",
    "            break\n",
    "        else:\n",
    "            out.append(itos[ix])\n",
    "    print(''.join(out))"
   ],
   "id": "76c6ef097755ed80",
   "outputs": [
    {
     "name": "stdout",
     "output_type": "stream",
     "text": [
      "cexza\n",
      "mogllurailezityha\n",
      "konimittain\n",
      "llayn\n",
      "ka\n"
     ]
    }
   ],
   "execution_count": 17
  },
  {
   "metadata": {},
   "cell_type": "code",
   "outputs": [],
   "execution_count": null,
   "source": "",
   "id": "5b8dbc381dfba164"
  }
 ],
 "metadata": {
  "kernelspec": {
   "display_name": "Python 3",
   "language": "python",
   "name": "python3"
  },
  "language_info": {
   "codemirror_mode": {
    "name": "ipython",
    "version": 2
   },
   "file_extension": ".py",
   "mimetype": "text/x-python",
   "name": "python",
   "nbconvert_exporter": "python",
   "pygments_lexer": "ipython2",
   "version": "2.7.6"
  }
 },
 "nbformat": 4,
 "nbformat_minor": 5
}
