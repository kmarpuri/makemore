{
 "cells": [
  {
   "cell_type": "code",
   "id": "initial_id",
   "metadata": {
    "collapsed": true,
    "ExecuteTime": {
     "end_time": "2025-08-20T21:50:25.811003Z",
     "start_time": "2025-08-20T21:50:25.808625Z"
    }
   },
   "source": [
    "import random\n",
    "import torch\n",
    "import torch.nn.functional as F\n",
    "import matplotlib.pyplot as plt\n",
    "%matplotlib inline"
   ],
   "outputs": [],
   "execution_count": 35
  },
  {
   "metadata": {
    "ExecuteTime": {
     "end_time": "2025-08-19T21:57:06.155054Z",
     "start_time": "2025-08-19T21:57:06.137409Z"
    }
   },
   "cell_type": "code",
   "source": [
    "words = open('names.txt', 'r').read().splitlines()\n",
    "random.shuffle(words)\n",
    "n = len(words)\n",
    "\n",
    "n_train = int(0.8 * n)\n",
    "n_dev = int(0.1 * n)\n",
    "\n",
    "words_train = words[:n_train]\n",
    "words_dev = words[n_train:n_train + n_dev]\n",
    "words_test = words[n_train + n_dev:]\n",
    "\n",
    "chars = sorted(list(set(''.join(words))))\n",
    "stoi = {s:i+1 for i, s in enumerate(chars)}\n",
    "stoi['.'] = 0\n",
    "itos = {i:s for s, i in stoi.items()}"
   ],
   "id": "1e5ef9a3af318518",
   "outputs": [],
   "execution_count": 2
  },
  {
   "metadata": {
    "ExecuteTime": {
     "end_time": "2025-08-19T21:57:06.865755Z",
     "start_time": "2025-08-19T21:57:06.859046Z"
    }
   },
   "cell_type": "code",
   "source": [
    "def build_xy(words, stoi, block_size=3):\n",
    "    x, y = [], []\n",
    "    for w in words[:]:\n",
    "        context = [0] * block_size\n",
    "        for ch in w + '.':\n",
    "            ix = stoi[ch]\n",
    "            x.append(context)\n",
    "            y.append(ix)\n",
    "            context = context[1:] + [ix]\n",
    "    X, Y = torch.tensor(x), torch.tensor(y)\n",
    "    return X, Y\n",
    "\n",
    "def data_nll(x, y, C, W1, B1, W2, B2, block_size=3, smoothing=0):\n",
    "    emb = C[x]\n",
    "    H = torch.tanh(emb.view(-1, C.size(1) * block_size) @ W1 + B1)\n",
    "    logits = H @ W2 + B2\n",
    "    return F.cross_entropy(logits, y, label_smoothing=smoothing).item()\n",
    "\n",
    "def train_step(x, y, C, W1, B1, W2, B2, parameters, block_size=3, lr=0.1, cycle=10):\n",
    "    for i in range(cycle):\n",
    "        ix = torch.randint(0, x.shape[0], (32,))\n",
    "        emb = C[x[ix]]\n",
    "        H = torch.tanh(emb.view(-1, C.size(1) * block_size) @ W1 + B1)\n",
    "        logits = H @ W2 + B2\n",
    "        loss = F.cross_entropy(logits, y[ix])\n",
    "        for p in parameters:\n",
    "            p.grad = None\n",
    "        loss.backward()\n",
    "        for p in parameters:\n",
    "            p.data += -lr * p.grad\n",
    "    return loss.item()\n",
    "\n",
    "def generate(C, W1, B1, W2, B2, itos, block_size=3, seed=2147483647, num_samples=5):\n",
    "    g = torch.Generator().manual_seed(seed)\n",
    "    for _ in range(num_samples):\n",
    "        out = []\n",
    "        context = [0] * block_size\n",
    "        while True:\n",
    "            emb = C[torch.tensor(context)]\n",
    "            h = torch.tanh(emb.view(-1, C.size(1) * block_size) @ W1 + B1)\n",
    "            logits = h @ W2 + B2\n",
    "            probs = F.softmax(logits, dim=1)\n",
    "            ix = torch.multinomial(probs, num_samples=1, generator=g).item()\n",
    "            context = context[1:] + [ix]\n",
    "            if ix == 0:\n",
    "                break\n",
    "            else:\n",
    "                out.append(ix)\n",
    "        print(''.join(itos[i] for i in out))\n"
   ],
   "id": "f25390939268eacb",
   "outputs": [],
   "execution_count": 3
  },
  {
   "metadata": {
    "ExecuteTime": {
     "end_time": "2025-08-19T21:57:07.695482Z",
     "start_time": "2025-08-19T21:57:07.546122Z"
    }
   },
   "cell_type": "code",
   "source": [
    "x_tr, y_tr = build_xy(words_train, stoi)\n",
    "x_dev, y_dev = build_xy(words_dev, stoi)\n",
    "x_te, y_te = build_xy(words_test, stoi)"
   ],
   "id": "2fc7e962787e76c6",
   "outputs": [],
   "execution_count": 4
  },
  {
   "metadata": {
    "ExecuteTime": {
     "end_time": "2025-08-19T21:57:10.546751Z",
     "start_time": "2025-08-19T21:57:10.542872Z"
    }
   },
   "cell_type": "code",
   "source": [
    "g = torch.Generator().manual_seed(2147483647)\n",
    "C = torch.randn((27, 10), generator=g)\n",
    "W1 = torch.randn((30, 500), generator=g)\n",
    "B1 = torch.randn(500, generator=g)\n",
    "W2 = torch.randn((500, 27), generator=g)\n",
    "B2 = torch.randn(27, generator=g)\n",
    "parameters = [C, W1, B1, W2, B2]\n",
    "for p in parameters:\n",
    "    p.requires_grad = True"
   ],
   "id": "98261992017dc285",
   "outputs": [],
   "execution_count": 5
  },
  {
   "metadata": {
    "ExecuteTime": {
     "end_time": "2025-08-20T21:50:25.767732Z",
     "start_time": "2025-08-20T21:42:33.709219Z"
    }
   },
   "cell_type": "code",
   "source": [
    "print(train_step(x_tr, y_tr, C, W1, B1, W2, B2, parameters, 3, 0.0005, 4000000))\n",
    "print(train_step(x_dev, y_dev, C, W1, B1, W2, B2, parameters, 3, 0.0005, 80000))\n",
    "\n",
    "print(data_nll(x_tr, y_tr, C, W1, B1, W2, B2))\n",
    "print(data_nll(x_dev, y_dev, C, W1, B1, W2, B2))"
   ],
   "id": "b3ba3a27c4392393",
   "outputs": [
    {
     "name": "stdout",
     "output_type": "stream",
     "text": [
      "2.1739916801452637\n",
      "1.683990478515625\n",
      "2.0133633613586426\n",
      "2.0003249645233154\n"
     ]
    }
   ],
   "execution_count": 33
  },
  {
   "metadata": {
    "ExecuteTime": {
     "end_time": "2025-08-20T21:51:19.438707Z",
     "start_time": "2025-08-20T21:51:19.416952Z"
    }
   },
   "cell_type": "code",
   "source": [
    "print(data_nll(x_te, y_te, C, W1, B1, W2, B2))\n",
    "# Final Test Loss Value = 2.1557"
   ],
   "id": "2f41f19b072aa372",
   "outputs": [
    {
     "name": "stdout",
     "output_type": "stream",
     "text": [
      "2.155707836151123\n"
     ]
    }
   ],
   "execution_count": 36
  },
  {
   "metadata": {
    "ExecuteTime": {
     "end_time": "2025-08-20T21:51:19.885080Z",
     "start_time": "2025-08-20T21:51:19.879309Z"
    }
   },
   "cell_type": "code",
   "source": "generate(C, W1, B1, W2, B2, itos)",
   "id": "a850a58ccdf5051f",
   "outputs": [
    {
     "name": "stdout",
     "output_type": "stream",
     "text": [
      "dex\n",
      "maleah\n",
      "makila\n",
      "kayden\n",
      "maira\n"
     ]
    }
   ],
   "execution_count": 37
  },
  {
   "metadata": {},
   "cell_type": "code",
   "outputs": [],
   "execution_count": null,
   "source": "",
   "id": "760272618596b764"
  }
 ],
 "metadata": {
  "kernelspec": {
   "display_name": "Python 3",
   "language": "python",
   "name": "python3"
  },
  "language_info": {
   "codemirror_mode": {
    "name": "ipython",
    "version": 2
   },
   "file_extension": ".py",
   "mimetype": "text/x-python",
   "name": "python",
   "nbconvert_exporter": "python",
   "pygments_lexer": "ipython2",
   "version": "2.7.6"
  }
 },
 "nbformat": 4,
 "nbformat_minor": 5
}
