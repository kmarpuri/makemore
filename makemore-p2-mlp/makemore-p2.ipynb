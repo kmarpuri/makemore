{
 "cells": [
  {
   "cell_type": "code",
   "id": "initial_id",
   "metadata": {
    "collapsed": true,
    "ExecuteTime": {
     "end_time": "2025-08-19T20:09:03.923412Z",
     "start_time": "2025-08-19T20:09:03.919775Z"
    }
   },
   "source": [
    "import random\n",
    "import torch\n",
    "import torch.nn.functional as F\n",
    "import matplotlib.pyplot as plt\n",
    "from torch.distributed.autograd import context\n",
    "%matplotlib inline"
   ],
   "outputs": [],
   "execution_count": 214
  },
  {
   "metadata": {
    "ExecuteTime": {
     "end_time": "2025-08-19T20:09:04.120338Z",
     "start_time": "2025-08-19T20:09:04.102344Z"
    }
   },
   "cell_type": "code",
   "source": [
    "words = open('names.txt', 'r').read().splitlines()\n",
    "random.shuffle(words)\n",
    "n = len(words)\n",
    "\n",
    "n_train = int(0.8 * n)\n",
    "n_dev = int(0.1 * n)\n",
    "\n",
    "words_train = words[:n_train]\n",
    "words_dev = words[n_train:n_train + n_dev]\n",
    "words_test = words[n_train + n_dev:]\n",
    "\n",
    "chars = sorted(list(set(''.join(words))))\n",
    "stoi = {s:i+1 for i, s in enumerate(chars)}\n",
    "stoi['.'] = 0\n",
    "itos = {i:s for s, i in stoi.items()}"
   ],
   "id": "1e5ef9a3af318518",
   "outputs": [],
   "execution_count": 215
  },
  {
   "metadata": {
    "ExecuteTime": {
     "end_time": "2025-08-19T20:16:35.638133Z",
     "start_time": "2025-08-19T20:16:35.632147Z"
    }
   },
   "cell_type": "code",
   "source": [
    "def build_xy(words, stoi):\n",
    "    block_size = 3\n",
    "    x, y = [], []\n",
    "    for w in words[:]:\n",
    "        context = [0] * block_size\n",
    "        for ch in w + '.':\n",
    "            ix = stoi[ch]\n",
    "            x.append(context)\n",
    "            y.append(ix)\n",
    "            context = context[1:] + [ix]\n",
    "    X, Y = torch.tensor(x), torch.tensor(y)\n",
    "    return X, Y\n",
    "\n",
    "def data_nll(x, y, C, W1, B1, W2, B2, smoothing=0):\n",
    "    emb = C[x]\n",
    "    H = torch.tanh(emb.view(-1, 30) @ W1 + B1)\n",
    "    logits = H @ W2 + B2\n",
    "    return F.cross_entropy(logits, y, label_smoothing=smoothing).item()\n",
    "\n",
    "def train_step(x, y, C, W1, B1, W2, B2, parameters, lr=0.1, cycle=10):\n",
    "    for i in range(cycle):\n",
    "        ix = torch.randint(0, x.shape[0], (32,))\n",
    "        emb = C[x[ix]]\n",
    "        H = torch.tanh(emb.view(-1, 30) @ W1 + B1)\n",
    "        logits = H @ W2 + B2\n",
    "        loss = F.cross_entropy(logits, y[ix])\n",
    "        for p in parameters:\n",
    "            p.grad = None\n",
    "        loss.backward()\n",
    "        for p in parameters:\n",
    "            p.data += -lr * p.grad\n",
    "    return loss.item()\n",
    "\n",
    "def generate(C, W1, B1, W2, B2, itos, block_size=3, seed=2147483647, num_samples=5):\n",
    "    g = torch.Generator().manual_seed(seed)\n",
    "    for _ in range(num_samples):\n",
    "        out = []\n",
    "        context = [0] * block_size\n",
    "        while True:\n",
    "            emb = C[torch.tensor(context)]\n",
    "            h = torch.tanh(emb.view(-1, 30) @ W1 + B1)\n",
    "            logits = h @ W2 + B2\n",
    "            probs = F.softmax(logits, dim=1)\n",
    "            ix = torch.multinomial(probs, num_samples=1, generator=g).item()\n",
    "            context = context[1:] + [ix]\n",
    "            if ix == 0:\n",
    "                break\n",
    "            else:\n",
    "                out.append(ix)\n",
    "        print(''.join(itos[i] for i in out))\n"
   ],
   "id": "f25390939268eacb",
   "outputs": [],
   "execution_count": 237
  },
  {
   "metadata": {
    "ExecuteTime": {
     "end_time": "2025-08-19T20:16:36.241913Z",
     "start_time": "2025-08-19T20:16:36.083542Z"
    }
   },
   "cell_type": "code",
   "source": [
    "x_tr, y_tr = build_xy(words_train, stoi)\n",
    "x_dev, y_dev = build_xy(words_dev, stoi)\n",
    "x_te, y_te = build_xy(words_test, stoi)"
   ],
   "id": "2fc7e962787e76c6",
   "outputs": [],
   "execution_count": 238
  },
  {
   "metadata": {
    "ExecuteTime": {
     "end_time": "2025-08-19T20:16:37.122490Z",
     "start_time": "2025-08-19T20:16:37.119271Z"
    }
   },
   "cell_type": "code",
   "source": [
    "g = torch.Generator().manual_seed(2147483647)\n",
    "C = torch.randn((27, 10), generator=g)\n",
    "W1 = torch.randn((30, 500), generator=g)\n",
    "B1 = torch.randn(500, generator=g)\n",
    "W2 = torch.randn((500, 27), generator=g)\n",
    "B2 = torch.randn(27, generator=g)\n",
    "parameters = [C, W1, B1, W2, B2]\n",
    "for p in parameters:\n",
    "    p.requires_grad = True"
   ],
   "id": "98261992017dc285",
   "outputs": [],
   "execution_count": 239
  },
  {
   "metadata": {
    "ExecuteTime": {
     "end_time": "2025-08-19T20:22:23.770989Z",
     "start_time": "2025-08-19T20:21:57.022485Z"
    }
   },
   "cell_type": "code",
   "source": [
    "print(train_step(x_tr, y_tr, C, W1, B1, W2, B2, parameters, 0.005, 200000))\n",
    "print(train_step(x_dev, y_dev, C, W1, B1, W2, B2, parameters, 0.005, 20000))\n",
    "\n",
    "print(data_nll(x_tr, y_tr, C, W1, B1, W2, B2))\n",
    "print(data_nll(x_dev, y_dev, C, W1, B1, W2, B2))"
   ],
   "id": "b3ba3a27c4392393",
   "outputs": [
    {
     "name": "stdout",
     "output_type": "stream",
     "text": [
      "1.9524500370025635\n",
      "2.059393882751465\n",
      "2.176980972290039\n",
      "2.1015679836273193\n"
     ]
    }
   ],
   "execution_count": 251
  },
  {
   "metadata": {
    "ExecuteTime": {
     "end_time": "2025-08-19T20:23:20.047405Z",
     "start_time": "2025-08-19T20:23:20.025650Z"
    }
   },
   "cell_type": "code",
   "source": [
    "print(data_nll(x_te, y_te, C, W1, B1, W2, B2))\n",
    "# Final Test Loss Value = 2.2239"
   ],
   "id": "2f41f19b072aa372",
   "outputs": [
    {
     "name": "stdout",
     "output_type": "stream",
     "text": [
      "2.2238640785217285\n"
     ]
    }
   ],
   "execution_count": 254
  },
  {
   "metadata": {
    "ExecuteTime": {
     "end_time": "2025-08-19T20:22:45.486830Z",
     "start_time": "2025-08-19T20:22:45.482698Z"
    }
   },
   "cell_type": "code",
   "source": "generate(C, W1, B1, W2, B2, itos)",
   "id": "a850a58ccdf5051f",
   "outputs": [
    {
     "name": "stdout",
     "output_type": "stream",
     "text": [
      "cerie\n",
      "corlynn\n",
      "rochityn\n",
      "mellimithainella\n",
      "kama\n"
     ]
    }
   ],
   "execution_count": 253
  }
 ],
 "metadata": {
  "kernelspec": {
   "display_name": "Python 3",
   "language": "python",
   "name": "python3"
  },
  "language_info": {
   "codemirror_mode": {
    "name": "ipython",
    "version": 2
   },
   "file_extension": ".py",
   "mimetype": "text/x-python",
   "name": "python",
   "nbconvert_exporter": "python",
   "pygments_lexer": "ipython2",
   "version": "2.7.6"
  }
 },
 "nbformat": 4,
 "nbformat_minor": 5
}
