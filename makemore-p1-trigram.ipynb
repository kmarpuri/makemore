{
 "cells": [
  {
   "metadata": {
    "ExecuteTime": {
     "end_time": "2025-08-14T14:55:59.470472Z",
     "start_time": "2025-08-14T14:55:59.468065Z"
    }
   },
   "cell_type": "code",
   "source": [
    "import torch\n",
    "import torch.nn.functional as F"
   ],
   "id": "ee3471fcabe2f7ab",
   "outputs": [],
   "execution_count": 11
  },
  {
   "metadata": {
    "collapsed": true,
    "ExecuteTime": {
     "end_time": "2025-08-14T14:54:07.559850Z",
     "start_time": "2025-08-14T14:54:07.555932Z"
    }
   },
   "cell_type": "code",
   "source": [
    "words = open('names.txt', 'r').read().splitlines()\n",
    "chars = sorted(set(''.join(words)))\n",
    "stoi = {s:i+1 for i, s in enumerate(chars)}\n",
    "stoi['.'] = 0\n",
    "itos = {i:s for s, i in stoi.items()}"
   ],
   "id": "5ed40c126035bb66",
   "outputs": [],
   "execution_count": 7
  },
  {
   "metadata": {
    "ExecuteTime": {
     "end_time": "2025-08-14T15:20:34.775565Z",
     "start_time": "2025-08-14T15:20:34.694250Z"
    }
   },
   "cell_type": "code",
   "source": [
    "xs, ys = [], []\n",
    "for w in words[:]:\n",
    "    chs = ['.', '.'] + list(w) + ['.']\n",
    "    for ch1, ch2, ch3 in zip(chs, chs[1:], chs[2:]):\n",
    "        ix12 = stoi[ch1] * 27 + stoi[ch2]\n",
    "        xs.append(ix12)\n",
    "        ys.append(stoi[ch3])\n",
    "\n",
    "xs = torch.tensor(xs)\n",
    "ys = torch.tensor(ys)\n",
    "num = xs.nelement()"
   ],
   "id": "714b4eda5a31d9d8",
   "outputs": [],
   "execution_count": 68
  },
  {
   "metadata": {
    "ExecuteTime": {
     "end_time": "2025-08-14T15:20:35.179837Z",
     "start_time": "2025-08-14T15:20:35.176588Z"
    }
   },
   "cell_type": "code",
   "source": [
    "g = torch.Generator().manual_seed(2147483647)\n",
    "W = torch.randn((729, 27), generator=g, requires_grad=True)"
   ],
   "id": "5db7275d6606cd9a",
   "outputs": [],
   "execution_count": 69
  },
  {
   "metadata": {
    "ExecuteTime": {
     "end_time": "2025-08-14T15:20:35.698781Z",
     "start_time": "2025-08-14T15:20:35.559497Z"
    }
   },
   "cell_type": "code",
   "source": [
    "xenc = F.one_hot(xs, num_classes=729).float()\n",
    "logits = xenc @ W\n",
    "counts = logits.exp()\n",
    "probs = counts / counts.sum(1, keepdim=True)\n",
    "loss = -probs[torch.arange(num), ys].log().mean() + 0.01*(W**2).mean()"
   ],
   "id": "98a37375a752b8de",
   "outputs": [],
   "execution_count": 70
  },
  {
   "metadata": {
    "ExecuteTime": {
     "end_time": "2025-08-14T15:20:36.031495Z",
     "start_time": "2025-08-14T15:20:36.011673Z"
    }
   },
   "cell_type": "code",
   "source": [
    "W.grad = None\n",
    "loss.backward()"
   ],
   "id": "f1b68ca49f942b5",
   "outputs": [],
   "execution_count": 71
  },
  {
   "metadata": {
    "ExecuteTime": {
     "end_time": "2025-08-14T15:20:37.006168Z",
     "start_time": "2025-08-14T15:20:37.003713Z"
    }
   },
   "cell_type": "code",
   "source": "W.data += -0.1 * W.grad",
   "id": "25575ddf67f1e55c",
   "outputs": [],
   "execution_count": 72
  },
  {
   "metadata": {
    "ExecuteTime": {
     "end_time": "2025-08-14T15:20:37.673409Z",
     "start_time": "2025-08-14T15:20:37.670774Z"
    }
   },
   "cell_type": "code",
   "source": "print(loss.item())",
   "id": "cb2676719f888296",
   "outputs": [
    {
     "name": "stdout",
     "output_type": "stream",
     "text": [
      "3.8028225898742676\n"
     ]
    }
   ],
   "execution_count": 73
  },
  {
   "metadata": {
    "ExecuteTime": {
     "end_time": "2025-08-14T15:31:34.032003Z",
     "start_time": "2025-08-14T15:29:24.416435Z"
    }
   },
   "cell_type": "code",
   "source": [
    "for k in range(1000):\n",
    "    xenc = F.one_hot(xs, num_classes=729).float()\n",
    "    logits = xenc @ W\n",
    "    counts = logits.exp()\n",
    "    probs = counts / counts.sum(1, keepdim=True)\n",
    "    loss = -probs[torch.arange(num), ys].log().mean() + 0.01*(W**2).mean()\n",
    "\n",
    "    W.grad = None\n",
    "    loss.backward()\n",
    "\n",
    "    W.data += -1 * W.grad\n",
    "\n",
    "print(loss.item())"
   ],
   "id": "2220ae3e3261050b",
   "outputs": [
    {
     "name": "stdout",
     "output_type": "stream",
     "text": [
      "2.3648223876953125\n"
     ]
    }
   ],
   "execution_count": 102
  },
  {
   "metadata": {
    "ExecuteTime": {
     "end_time": "2025-08-14T15:02:31.250948Z",
     "start_time": "2025-08-14T15:02:31.249068Z"
    }
   },
   "cell_type": "code",
   "source": "print(loss.item())",
   "id": "d05485be48f7ffaf",
   "outputs": [
    {
     "name": "stdout",
     "output_type": "stream",
     "text": [
      "2.853464365005493\n"
     ]
    }
   ],
   "execution_count": 33
  },
  {
   "metadata": {
    "ExecuteTime": {
     "end_time": "2025-08-14T15:34:54.675274Z",
     "start_time": "2025-08-14T15:34:54.670146Z"
    }
   },
   "cell_type": "code",
   "source": [
    "g = torch.Generator().manual_seed(2147483647)\n",
    "for i in range(5):\n",
    "    out = []\n",
    "    i1, i2 = 0, 0\n",
    "    while True:\n",
    "        pair = i1 * 27 + i2\n",
    "        logits = W[pair].unsqueeze(0)\n",
    "        p = logits.softmax(dim=1).squeeze(0)\n",
    "        i3 = torch.multinomial(p, num_samples=1).item()\n",
    "        if i3 == 0:\n",
    "            break\n",
    "        else:\n",
    "            out.append(itos[i3])\n",
    "            i1, i2 = i2, i3\n",
    "    print(''.join(out))"
   ],
   "id": "b920be46f653d6a6",
   "outputs": [
    {
     "name": "stdout",
     "output_type": "stream",
     "text": [
      "ammar\n",
      "man\n",
      "ayan\n",
      "ali\n",
      "susmore\n"
     ]
    }
   ],
   "execution_count": 104
  },
  {
   "metadata": {},
   "cell_type": "code",
   "outputs": [],
   "execution_count": null,
   "source": "",
   "id": "3b14efde0b269005"
  },
  {
   "metadata": {},
   "cell_type": "code",
   "outputs": [],
   "execution_count": null,
   "source": "",
   "id": "1e2e27301f609718"
  }
 ],
 "metadata": {
  "kernelspec": {
   "display_name": "Python 3",
   "language": "python",
   "name": "python3"
  },
  "language_info": {
   "codemirror_mode": {
    "name": "ipython",
    "version": 2
   },
   "file_extension": ".py",
   "mimetype": "text/x-python",
   "name": "python",
   "nbconvert_exporter": "python",
   "pygments_lexer": "ipython2",
   "version": "2.7.6"
  }
 },
 "nbformat": 4,
 "nbformat_minor": 5
}
