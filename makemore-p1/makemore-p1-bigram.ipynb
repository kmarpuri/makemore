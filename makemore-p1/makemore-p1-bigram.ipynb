{
 "cells": [
  {
   "metadata": {
    "ExecuteTime": {
     "end_time": "2025-08-17T20:35:40.348612Z",
     "start_time": "2025-08-17T20:35:40.345993Z"
    }
   },
   "cell_type": "code",
   "source": [
    "import random\n",
    "import torch\n",
    "import torch.nn.functional as F"
   ],
   "id": "d763ae8cb472a2e1",
   "outputs": [],
   "execution_count": 40
  },
  {
   "metadata": {
    "ExecuteTime": {
     "end_time": "2025-08-17T20:36:06.410354Z",
     "start_time": "2025-08-17T20:36:06.394934Z"
    }
   },
   "cell_type": "code",
   "source": [
    "words = open('makemore-p1/names.txt', 'r').read().splitlines()\n",
    "random.seed(2147483647)\n",
    "random.shuffle(words)\n",
    "n = len(words)\n",
    "\n",
    "n_train = int(n * 0.8)\n",
    "n_dev = int(n * 0.1)\n",
    "\n",
    "words_train = words[:n_train]\n",
    "words_dev = words[n_train:n_train+n_dev]\n",
    "words_test = words[n_train+n_dev:]\n",
    "\n",
    "chars = sorted(set(''.join(words)))\n",
    "stoi = {s:i+1 for i, s in enumerate(chars)}\n",
    "stoi['.'] = 0\n",
    "itos = {i:s for s, i in stoi.items()}"
   ],
   "id": "ff9f32a897490",
   "outputs": [],
   "execution_count": 42
  },
  {
   "metadata": {
    "collapsed": true,
    "ExecuteTime": {
     "end_time": "2025-08-17T20:36:11.873867Z",
     "start_time": "2025-08-17T20:36:11.868499Z"
    }
   },
   "cell_type": "code",
   "source": [
    "def build_xy(words, stoi):\n",
    "    xs, ys = [], []\n",
    "    for w in words[:]:\n",
    "        chs = ['.'] + list(w) + ['.']\n",
    "        for ch1, ch2 in zip(chs, chs[1:]):\n",
    "            xs.append(stoi[ch1])\n",
    "            ys.append(stoi[ch2])\n",
    "    return torch.tensor(xs), torch.tensor(ys)\n",
    "\n",
    "def data_nll(xs, ys, W):\n",
    "    logits = W[xs].float()\n",
    "    return F.cross_entropy(logits, ys)\n",
    "\n",
    "def loss_calc(xs, ys, W):\n",
    "    return data_nll(xs, ys, W) + 0.1 * (W**2).mean()\n",
    "\n",
    "def train_step(xs, ys, W, lr=1.0, cycle=10):\n",
    "    for _ in range(cycle):\n",
    "        loss = loss_calc(xs, ys, W)\n",
    "        W.grad = None\n",
    "        loss.backward()\n",
    "        W.data += -lr * W.grad\n",
    "    return loss.item()\n",
    "\n",
    "def generate(W, seed=2147483647, num_samples=5):\n",
    "    g = torch.Generator().manual_seed(seed)\n",
    "    for i in range(num_samples):\n",
    "        out = []\n",
    "        ix = 0\n",
    "        while True:\n",
    "            logits = W[ix].unsqueeze(0)\n",
    "            p = logits.softmax(dim=1).squeeze(0)\n",
    "            ix = torch.multinomial(p, num_samples=1, replacement=True, generator=g).item()\n",
    "            if ix == 0:\n",
    "                break\n",
    "            else:\n",
    "                out.append(itos[ix])\n",
    "        print(''.join(out))"
   ],
   "id": "d82027813e21120f",
   "outputs": [],
   "execution_count": 43
  },
  {
   "metadata": {
    "ExecuteTime": {
     "end_time": "2025-08-17T20:36:41.997929Z",
     "start_time": "2025-08-17T20:36:12.362370Z"
    }
   },
   "cell_type": "code",
   "source": [
    "g = torch.Generator().manual_seed(2147483647)\n",
    "W = torch.randn((27, 27), generator=g, requires_grad=True)\n",
    "\n",
    "xs_tr, ys_tr = build_xy(words_train, stoi)\n",
    "xs_dev, ys_dev = build_xy(words_dev, stoi)\n",
    "xs_te, ys_te = build_xy(words_test, stoi)\n",
    "\n",
    "train_step(xs_tr, ys_tr, W, 1.0, 1000)"
   ],
   "id": "42ddacccbd6b49e1",
   "outputs": [
    {
     "data": {
      "text/plain": [
       "2.6525280475616455"
      ]
     },
     "execution_count": 44,
     "metadata": {},
     "output_type": "execute_result"
    }
   ],
   "execution_count": 44
  },
  {
   "metadata": {
    "ExecuteTime": {
     "end_time": "2025-08-17T20:36:42.020523Z",
     "start_time": "2025-08-17T20:36:42.013692Z"
    }
   },
   "cell_type": "code",
   "source": [
    "train_nll = loss_calc(xs_tr, ys_tr, W)\n",
    "dev_nll = loss_calc(xs_dev, ys_dev, W)\n",
    "test_nll = loss_calc(xs_te, ys_te, W)\n",
    "\n",
    "print(f\"Train NLL: {train_nll}\")\n",
    "print(f\"Dev NLL: {dev_nll}\")\n",
    "print(f\"Test NLL: {test_nll}\")"
   ],
   "id": "46713d5f7f961066",
   "outputs": [
    {
     "name": "stdout",
     "output_type": "stream",
     "text": [
      "Train NLL: 2.65242075920105\n",
      "Dev NLL: 2.647392511367798\n",
      "Test NLL: 2.6453683376312256\n"
     ]
    }
   ],
   "execution_count": 45
  },
  {
   "metadata": {
    "ExecuteTime": {
     "end_time": "2025-08-17T20:36:42.026107Z",
     "start_time": "2025-08-17T20:36:42.023538Z"
    }
   },
   "cell_type": "code",
   "source": "generate(W, 2147483647, 5)",
   "id": "b581103c1a114250",
   "outputs": [
    {
     "name": "stdout",
     "output_type": "stream",
     "text": [
      "cexza\n",
      "mogllurailezktyha\n",
      "kllimittain\n",
      "llayn\n",
      "ka\n"
     ]
    }
   ],
   "execution_count": 46
  }
 ],
 "metadata": {
  "kernelspec": {
   "display_name": "Python 3",
   "language": "python",
   "name": "python3"
  },
  "language_info": {
   "codemirror_mode": {
    "name": "ipython",
    "version": 2
   },
   "file_extension": ".py",
   "mimetype": "text/x-python",
   "name": "python",
   "nbconvert_exporter": "python",
   "pygments_lexer": "ipython2",
   "version": "2.7.6"
  }
 },
 "nbformat": 4,
 "nbformat_minor": 5
}
