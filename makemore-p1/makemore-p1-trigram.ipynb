{
 "cells": [
  {
   "metadata": {
    "ExecuteTime": {
     "end_time": "2025-08-17T20:36:54.540389Z",
     "start_time": "2025-08-17T20:36:54.537887Z"
    }
   },
   "cell_type": "code",
   "source": [
    "import random\n",
    "import torch\n",
    "import torch.nn.functional as F"
   ],
   "id": "ee3471fcabe2f7ab",
   "outputs": [],
   "execution_count": 100
  },
  {
   "metadata": {
    "ExecuteTime": {
     "end_time": "2025-08-17T20:36:54.856442Z",
     "start_time": "2025-08-17T20:36:54.845122Z"
    }
   },
   "cell_type": "code",
   "source": [
    "words = open('makemore-p1/names.txt', 'r').read().splitlines()\n",
    "random.shuffle(words)\n",
    "n = len(words)\n",
    "\n",
    "n_train = int(n * 0.8)\n",
    "n_dev = int(n * 0.1)\n",
    "\n",
    "words_train = words[:n_train]\n",
    "words_dev = words[n_train:n_train+n_dev]\n",
    "words_test = words[n_train+n_dev:]\n",
    "\n",
    "chars = sorted(set(''.join(words)))\n",
    "stoi = {s:i+1 for i, s in enumerate(chars)}\n",
    "stoi['.'] = 0\n",
    "itos = {i:s for s, i in stoi.items()}"
   ],
   "id": "2091185dc878ca5e",
   "outputs": [],
   "execution_count": 101
  },
  {
   "metadata": {
    "ExecuteTime": {
     "end_time": "2025-08-17T20:36:55.621913Z",
     "start_time": "2025-08-17T20:36:55.617627Z"
    }
   },
   "cell_type": "code",
   "source": [
    "def build_xy(words, stoi):\n",
    "    xs, ys = [], []\n",
    "    for w in words[:]:\n",
    "        chs = ['.', '.'] + list(w) + ['.']\n",
    "        for ch1, ch2, ch3 in zip(chs, chs[1:], chs[2:]):\n",
    "            ix12 = stoi[ch1] * 27 + stoi[ch2]\n",
    "            xs.append(ix12)\n",
    "            ys.append(stoi[ch3])\n",
    "    return torch.tensor(xs), torch.tensor(ys)\n",
    "\n",
    "def data_nll(xs, ys, W):\n",
    "    logits = W[xs].float()\n",
    "    return F.cross_entropy(logits, ys)\n",
    "\n",
    "def loss_calc(xs, ys, W):\n",
    "    return data_nll(xs, ys, W) + 0.1 * (W**2).mean()\n",
    "\n",
    "def train_step(xs, ys, W, lr=1.0, cycle=10):\n",
    "    for _ in range(cycle):\n",
    "        loss = loss_calc(xs, ys, W)\n",
    "        W.grad = None\n",
    "        loss.backward()\n",
    "        W.data += -lr * W.grad\n",
    "    return loss.item()\n",
    "\n",
    "def generate(W, seed=2147483647, num_samples=5):\n",
    "    g = torch.Generator().manual_seed(seed)\n",
    "    for i in range(num_samples):\n",
    "        out = []\n",
    "        i1, i2 = 0, 0\n",
    "        while True:\n",
    "            pair = i1 * 27 + i2\n",
    "            logits = W[pair].unsqueeze(0)\n",
    "            p = logits.softmax(dim=1).squeeze(0)\n",
    "            i3 = torch.multinomial(p, num_samples=1, generator=g).item()\n",
    "            if i3 == 0:\n",
    "                break\n",
    "            else:\n",
    "                out.append(itos[i3])\n",
    "                i1, i2 = i2, i3\n",
    "        print(''.join(out))"
   ],
   "id": "59265f688789ed4c",
   "outputs": [],
   "execution_count": 102
  },
  {
   "metadata": {
    "ExecuteTime": {
     "end_time": "2025-08-17T20:37:21.496358Z",
     "start_time": "2025-08-17T20:36:56.586615Z"
    }
   },
   "cell_type": "code",
   "source": [
    "g = torch.Generator().manual_seed(2147483647)\n",
    "W = torch.randn((729, 27), generator=g, requires_grad=True)\n",
    "\n",
    "xs_tr, ys_tr = build_xy(words_train, stoi)\n",
    "xs_dev, ys_dev = build_xy(words_dev, stoi)\n",
    "xs_te, ys_te = build_xy(words_test, stoi)\n",
    "\n",
    "train_step(xs_tr, ys_tr, W, 1.0, 1000)"
   ],
   "id": "65fcb68080f42a42",
   "outputs": [
    {
     "data": {
      "text/plain": [
       "3.0598161220550537"
      ]
     },
     "execution_count": 103,
     "metadata": {},
     "output_type": "execute_result"
    }
   ],
   "execution_count": 103
  },
  {
   "metadata": {
    "ExecuteTime": {
     "end_time": "2025-08-17T20:37:21.505720Z",
     "start_time": "2025-08-17T20:37:21.499248Z"
    }
   },
   "cell_type": "code",
   "source": [
    "print(loss_calc(xs_tr, ys_tr, W).item())\n",
    "print(loss_calc(xs_dev, ys_dev, W).item())\n",
    "print(loss_calc(xs_te, ys_te, W).item())"
   ],
   "id": "64a6a55402536b3",
   "outputs": [
    {
     "name": "stdout",
     "output_type": "stream",
     "text": [
      "3.0594773292541504\n",
      "3.071654796600342\n",
      "3.064337968826294\n"
     ]
    }
   ],
   "execution_count": 104
  },
  {
   "metadata": {
    "ExecuteTime": {
     "end_time": "2025-08-17T20:37:21.511035Z",
     "start_time": "2025-08-17T20:37:21.508242Z"
    }
   },
   "cell_type": "code",
   "source": "generate(W, num_samples=5)",
   "id": "8785dd82231f6652",
   "outputs": [
    {
     "name": "stdout",
     "output_type": "stream",
     "text": [
      "cexzdfzjglkurxycezkwyhhmvlzimjtna\n",
      "nmlbfvk\n",
      "ka\n",
      "da\n",
      "stexvpbbpwkhrggitmj\n"
     ]
    }
   ],
   "execution_count": 105
  }
 ],
 "metadata": {
  "kernelspec": {
   "display_name": "Python 3",
   "language": "python",
   "name": "python3"
  },
  "language_info": {
   "codemirror_mode": {
    "name": "ipython",
    "version": 2
   },
   "file_extension": ".py",
   "mimetype": "text/x-python",
   "name": "python",
   "nbconvert_exporter": "python",
   "pygments_lexer": "ipython2",
   "version": "2.7.6"
  }
 },
 "nbformat": 4,
 "nbformat_minor": 5
}
