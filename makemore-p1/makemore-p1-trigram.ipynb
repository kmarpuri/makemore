{
 "cells": [
  {
   "metadata": {
    "ExecuteTime": {
     "end_time": "2025-08-17T13:13:26.323231Z",
     "start_time": "2025-08-17T13:13:26.320709Z"
    }
   },
   "cell_type": "code",
   "source": [
    "import random\n",
    "import torch\n",
    "import torch.nn.functional as F"
   ],
   "id": "ee3471fcabe2f7ab",
   "outputs": [],
   "execution_count": 74
  },
  {
   "metadata": {
    "collapsed": true,
    "ExecuteTime": {
     "end_time": "2025-08-17T13:28:10.782796Z",
     "start_time": "2025-08-17T13:28:10.766027Z"
    }
   },
   "cell_type": "code",
   "source": [
    "words = open('../names.txt', 'r').read().splitlines()\n",
    "random.shuffle(words)\n",
    "n = len(words)\n",
    "\n",
    "n_train = int(n * 0.8)\n",
    "n_dev = int(n * 0.1)\n",
    "\n",
    "words_train = words[:n_train]\n",
    "words_dev = words[n_train:n_train+n_dev]\n",
    "words_test = words[n_train+n_dev:]\n",
    "\n",
    "chars = sorted(set(''.join(words)))\n",
    "stoi = {s:i+1 for i, s in enumerate(chars)}\n",
    "stoi['.'] = 0\n",
    "itos = {i:s for s, i in stoi.items()}"
   ],
   "id": "5ed40c126035bb66",
   "outputs": [],
   "execution_count": 83
  },
  {
   "metadata": {
    "ExecuteTime": {
     "end_time": "2025-08-17T20:25:41.412976Z",
     "start_time": "2025-08-17T20:25:41.407768Z"
    }
   },
   "cell_type": "code",
   "source": [
    "def build_xy(words, stoi):\n",
    "    xs, ys = [], []\n",
    "    for w in words[:]:\n",
    "        chs = ['.', '.'] + list(w) + ['.']\n",
    "        for ch1, ch2, ch3 in zip(chs, chs[1:], chs[2:]):\n",
    "            ix12 = stoi[ch1] * 27 + stoi[ch2]\n",
    "            xs.append(ix12)\n",
    "            ys.append(stoi[ch3])\n",
    "    return torch.tensor(xs), torch.tensor(ys)\n",
    "\n",
    "def data_nll(xs, ys, W):\n",
    "    logits = W[xs].float()\n",
    "    return F.cross_entropy(logits, ys)\n",
    "\n",
    "def loss_calc(xs, ys, W):\n",
    "    return data_nll(xs, ys, W) + 0.1 * (W**2).mean()\n",
    "\n",
    "def train_step(xs, ys, W, lr=1.0, cycle=10):\n",
    "    for _ in range(cycle):\n",
    "        loss = loss_calc(xs, ys, W)\n",
    "        W.grad = None\n",
    "        loss.backward()\n",
    "        W.data += -lr * W.grad\n",
    "    return loss.item()\n",
    "\n",
    "def generate(W, seed=2147483647, num_samples=5):\n",
    "    g = torch.Generator().manual_seed(seed)\n",
    "    for i in range(num_samples):\n",
    "        out = []\n",
    "        i1, i2 = 0, 0\n",
    "        while True:\n",
    "            pair = i1 * 27 + i2\n",
    "            logits = W[pair].unsqueeze(0)\n",
    "            p = logits.softmax(dim=1).squeeze(0)\n",
    "            i3 = torch.multinomial(p, num_samples=1, generator=g).item()\n",
    "            if i3 == 0:\n",
    "                break\n",
    "            else:\n",
    "                out.append(itos[i3])\n",
    "                i1, i2 = i2, i3\n",
    "        print(''.join(out))"
   ],
   "id": "714b4eda5a31d9d8",
   "outputs": [],
   "execution_count": 95
  },
  {
   "metadata": {
    "ExecuteTime": {
     "end_time": "2025-08-17T20:07:01.207727Z",
     "start_time": "2025-08-17T20:06:31.617017Z"
    }
   },
   "cell_type": "code",
   "source": [
    "g = torch.Generator().manual_seed(2147483647)\n",
    "W = torch.randn((729, 27), generator=g, requires_grad=True)\n",
    "\n",
    "xs_tr, ys_tr = build_xy(words_train, stoi)\n",
    "xs_dev, ys_dev = build_xy(words_dev, stoi)\n",
    "xs_te, ys_te = build_xy(words_test, stoi)\n",
    "\n",
    "train_step(xs_tr, ys_tr, W, 1.0, 1000)"
   ],
   "id": "65fcb68080f42a42",
   "outputs": [
    {
     "data": {
      "text/plain": [
       "3.0626108646392822"
      ]
     },
     "execution_count": 88,
     "metadata": {},
     "output_type": "execute_result"
    }
   ],
   "execution_count": 88
  },
  {
   "metadata": {
    "ExecuteTime": {
     "end_time": "2025-08-17T20:07:01.228028Z",
     "start_time": "2025-08-17T20:07:01.217502Z"
    }
   },
   "cell_type": "code",
   "source": [
    "print(loss_calc(xs_tr, ys_tr, W).item())\n",
    "print(loss_calc(xs_dev, ys_dev, W).item())\n",
    "print(loss_calc(xs_te, ys_te, W).item())"
   ],
   "id": "64a6a55402536b3",
   "outputs": [
    {
     "name": "stdout",
     "output_type": "stream",
     "text": [
      "3.062272548675537\n",
      "3.0705273151397705\n",
      "3.0485382080078125\n"
     ]
    }
   ],
   "execution_count": 89
  },
  {
   "metadata": {
    "ExecuteTime": {
     "end_time": "2025-08-17T20:25:43.878875Z",
     "start_time": "2025-08-17T20:25:43.873437Z"
    }
   },
   "cell_type": "code",
   "source": "generate(W, num_samples=5)",
   "id": "8785dd82231f6652",
   "outputs": [
    {
     "name": "stdout",
     "output_type": "stream",
     "text": [
      "dexzdfzjglkurxycezkwyhhmvlzimjtna\n",
      "nmlbfvk\n",
      "ka\n",
      "da\n",
      "stexvpbbpwkhrggitmj\n"
     ]
    }
   ],
   "execution_count": 96
  }
 ],
 "metadata": {
  "kernelspec": {
   "display_name": "Python 3",
   "language": "python",
   "name": "python3"
  },
  "language_info": {
   "codemirror_mode": {
    "name": "ipython",
    "version": 2
   },
   "file_extension": ".py",
   "mimetype": "text/x-python",
   "name": "python",
   "nbconvert_exporter": "python",
   "pygments_lexer": "ipython2",
   "version": "2.7.6"
  }
 },
 "nbformat": 4,
 "nbformat_minor": 5
}
