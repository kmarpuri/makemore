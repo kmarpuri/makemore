{
 "cells": [
  {
   "metadata": {
    "ExecuteTime": {
     "end_time": "2025-08-31T10:19:09.408711Z",
     "start_time": "2025-08-31T10:19:09.078941Z"
    }
   },
   "cell_type": "code",
   "source": [
    "import random\n",
    "import torch\n",
    "import torch.nn.functional as F\n",
    "import matplotlib.pyplot as plt\n",
    "from torch.utils.backcompat import keepdim_warning\n",
    "%matplotlib inline"
   ],
   "id": "e7a1038aee09dd62",
   "outputs": [],
   "execution_count": 9
  },
  {
   "metadata": {
    "ExecuteTime": {
     "end_time": "2025-08-31T10:19:09.929576Z",
     "start_time": "2025-08-31T10:19:09.913451Z"
    }
   },
   "cell_type": "code",
   "source": [
    "words = open('names.txt', 'r').read().splitlines()\n",
    "random.seed(2147483647)\n",
    "random.shuffle(words)\n",
    "n = len(words)\n",
    "\n",
    "n_train = int(0.8 * n)\n",
    "n_dev = int(0.1 * n)\n",
    "\n",
    "words_train = words[:n_train]\n",
    "words_dev = words[n_train:n_train + n_dev]\n",
    "words_test = words[n_train + n_dev:]\n",
    "\n",
    "chars = sorted(list(set(''.join(words))))\n",
    "stoi = {s:i+1 for i, s in enumerate(chars)}\n",
    "stoi['.'] = 0\n",
    "itos = {i:s for s, i in stoi.items()}\n",
    "vocab_size = len(stoi)"
   ],
   "id": "5a497d4893b395d0",
   "outputs": [],
   "execution_count": 10
  },
  {
   "metadata": {
    "ExecuteTime": {
     "end_time": "2025-08-31T10:19:10.595250Z",
     "start_time": "2025-08-31T10:19:10.586640Z"
    }
   },
   "cell_type": "code",
   "source": [
    "def build_xy(words, stoi, block_size=3):\n",
    "    x, y = [], []\n",
    "    for w in words[:]:\n",
    "        context = [0] * block_size\n",
    "        for ch in w + '.':\n",
    "            ix = stoi[ch]\n",
    "            x.append(context)\n",
    "            y.append(ix)\n",
    "            context = context[1:] + [ix]\n",
    "    X, Y = torch.tensor(x), torch.tensor(y)\n",
    "    return X, Y\n",
    "\n",
    "def data_nll(x, y, C, W1, W2, B2, bngain, bnbias, bnmean_running, bnstd_running, smoothing=0.05, eps=1e-5):\n",
    "    emb = C[x]\n",
    "    embcat = emb.view(emb.shape[0], -1)\n",
    "    hpreact = embcat @ W1\n",
    "    hpreact = bngain * ((hpreact - bnmean_running) / (bnstd_running ** 2 + eps) ** 0.5) + bnbias\n",
    "    h = torch.tanh(hpreact)\n",
    "    logits = h @ W2 + B2\n",
    "    return F.cross_entropy(logits, y, label_smoothing=smoothing).item()\n",
    "\n",
    "def train_step(x, y, C, W1, W2, B2, parameters, bngain, bnbias, bnmean_running, bnstd_running, lr1=0.1, lr2=None, steps=10, batch_size=32):\n",
    "    lossi = []\n",
    "    for i in range(steps):\n",
    "        ix = torch.randint(0, x.shape[0], (batch_size,))\n",
    "        xb, yb = x[ix], y[ix]\n",
    "        emb = C[xb]\n",
    "        embcat = emb.view(emb.shape[0], -1)\n",
    "        hpreact = embcat @ W1\n",
    "        bnmeani = hpreact.mean(0, keepdim=True)\n",
    "        bnstdi = hpreact.std(0, keepdim=True)\n",
    "        hpreact = bngain * ((hpreact - bnmeani) / bnstdi) + bnbias\n",
    "\n",
    "        with torch.no_grad():\n",
    "            bnmean_running = 0.999 * bnmean_running + 0.001 * bnmeani\n",
    "            bnstd_running = 0.999 * bnstd_running + 0.001 * bnstdi\n",
    "\n",
    "        h = torch.tanh(hpreact)\n",
    "        logits = h @ W2 + B2\n",
    "        loss = F.cross_entropy(logits, yb)\n",
    "        for p in parameters:\n",
    "            p.grad = None\n",
    "        loss.backward()\n",
    "        lr = lr1 if lr2 is None or i > 10000 else lr2\n",
    "        with torch.no_grad():\n",
    "            for p in parameters:\n",
    "                p.data += -lr * p.grad\n",
    "        lossi.append(loss.item())\n",
    "        if i % 1000 == 0:\n",
    "            print(f\"Step {i}, Loss: {loss.item()}\")\n",
    "    return lossi, bnmean_running, bnstd_running\n",
    "\n",
    "def generate(C, W1, W2, B2, bngain, bnbias, bnmean_running, bnstd_running, itos, block_size=3, seed=2147483647, num_samples=5, eps=1e-5):\n",
    "    g = torch.Generator().manual_seed(seed)\n",
    "    for _ in range(num_samples):\n",
    "        out = []\n",
    "        context = [0] * block_size\n",
    "        while True:\n",
    "            ctx = torch.tensor(context)\n",
    "            emb = C[ctx]\n",
    "            embcat = emb.view(1, -1)\n",
    "            hpreact = embcat @ W1\n",
    "            hpreact = bngain * ((hpreact - bnmean_running) / (bnstd_running ** 2 + eps) ** 0.5) + bnbias\n",
    "            h = torch.tanh(hpreact)\n",
    "            logits = h @ W2 + B2\n",
    "            p = logits.squeeze(0).softmax(dim=0)\n",
    "            ix = torch.multinomial(p, num_samples=1, replacement=True, generator=g).item()\n",
    "            context = context[1:] + [ix]\n",
    "            if ix == 0:\n",
    "                break\n",
    "            else:\n",
    "                out.append(ix)\n",
    "        print(''.join(itos[i] for i in out))"
   ],
   "id": "d99edba0fda4c59a",
   "outputs": [],
   "execution_count": 11
  },
  {
   "metadata": {
    "ExecuteTime": {
     "end_time": "2025-08-31T10:19:11.253482Z",
     "start_time": "2025-08-31T10:19:11.094844Z"
    }
   },
   "cell_type": "code",
   "source": [
    "x_tr, y_tr = build_xy(words_train, stoi)\n",
    "x_dev, y_dev = build_xy(words_dev, stoi)\n",
    "x_te, y_te = build_xy(words_test, stoi)"
   ],
   "id": "a09e120754f3751a",
   "outputs": [],
   "execution_count": 12
  },
  {
   "metadata": {
    "ExecuteTime": {
     "end_time": "2025-08-31T10:19:11.847488Z",
     "start_time": "2025-08-31T10:19:11.829182Z"
    }
   },
   "cell_type": "code",
   "source": [
    "n_emb = 10\n",
    "n_hidden = 200\n",
    "block_size = 3\n",
    "fan_in = n_emb * block_size\n",
    "\n",
    "g = torch.Generator().manual_seed(2147483647)\n",
    "C = torch.randn((vocab_size, n_emb),                generator=g)\n",
    "W1 = torch.randn((fan_in, n_hidden),    generator=g) * (5 / 3) / (fan_in + n_hidden) ** 0.5\n",
    "#B1 = torch.randn(n_hidden,                          generator=g) * 0.01\n",
    "W2 = torch.randn((n_hidden, vocab_size),            generator=g) * 0.01\n",
    "B2 = torch.randn(vocab_size,                        generator=g) * 0\n",
    "\n",
    "bngain = torch.ones((1, n_hidden))\n",
    "bnbias = torch.zeros((1, n_hidden))\n",
    "bnmean_running = torch.zeros((1, n_hidden))\n",
    "bnstd_running = torch.ones((1, n_hidden))\n",
    "\n",
    "parameters = [C, W1, W2, B2, bngain, bnbias]\n",
    "for p in parameters:\n",
    "    p.requires_grad = True\n",
    "print(sum(p.nelement() for p in parameters))\n",
    "\n",
    "ix = torch.randint(0, x_tr.shape[0], (32,))\n",
    "xb, yb = x_tr[ix], y_tr[ix]\n",
    "emb = C[xb]\n",
    "embcat = emb.view(emb.shape[0], -1)\n",
    "hpreact = embcat @ W1\n",
    "h = torch.tanh(hpreact)\n",
    "logits = h @ W2 + B2\n",
    "loss = F.cross_entropy(logits, yb)\n",
    "print(loss.item())"
   ],
   "id": "f90cab7b588bf4b3",
   "outputs": [
    {
     "name": "stdout",
     "output_type": "stream",
     "text": [
      "12097\n",
      "3.3089311122894287\n"
     ]
    }
   ],
   "execution_count": 13
  },
  {
   "metadata": {
    "ExecuteTime": {
     "end_time": "2025-08-31T10:19:12.585997Z",
     "start_time": "2025-08-31T10:19:12.503640Z"
    }
   },
   "cell_type": "code",
   "source": "plt.hist(h.view(-1).tolist(), 50)",
   "id": "847aa661c1f4f70f",
   "outputs": [
    {
     "data": {
      "text/plain": [
       "(array([ 19.,  26.,  58.,  55.,  68., 111.,  89.,  97., 103., 126., 143.,\n",
       "        146., 143., 165., 156., 137., 162., 146., 155., 136., 178., 167.,\n",
       "        153., 182., 192., 176., 181., 169., 159., 159., 163., 181., 175.,\n",
       "        143., 184., 172., 182., 150., 156., 120., 134., 112., 127., 105.,\n",
       "         98.,  82.,  71.,  45.,  29.,  14.]),\n",
       " array([-0.96831161, -0.92931397, -0.89031633, -0.85131869, -0.81232105,\n",
       "        -0.77332341, -0.73432577, -0.69532813, -0.65633049, -0.61733285,\n",
       "        -0.57833521, -0.53933757, -0.50033993, -0.4613423 , -0.42234466,\n",
       "        -0.38334702, -0.34434938, -0.30535174, -0.2663541 , -0.22735646,\n",
       "        -0.18835882, -0.14936118, -0.11036354, -0.0713659 , -0.03236826,\n",
       "         0.00662938,  0.04562702,  0.08462466,  0.1236223 ,  0.16261994,\n",
       "         0.20161757,  0.24061521,  0.27961285,  0.31861049,  0.35760813,\n",
       "         0.39660577,  0.43560341,  0.47460105,  0.51359869,  0.55259633,\n",
       "         0.59159397,  0.63059161,  0.66958925,  0.70858689,  0.74758453,\n",
       "         0.78658217,  0.82557981,  0.86457744,  0.90357508,  0.94257272,\n",
       "         0.98157036]),\n",
       " <BarContainer object of 50 artists>)"
      ]
     },
     "execution_count": 14,
     "metadata": {},
     "output_type": "execute_result"
    },
    {
     "data": {
      "text/plain": [
       "<Figure size 640x480 with 1 Axes>"
      ],
      "image/png": "[encoded data removed]"
     },
     "metadata": {},
     "output_type": "display_data",
     "jetTransient": {
      "display_id": null
     }
    }
   ],
   "execution_count": 14
  },
  {
   "metadata": {
    "ExecuteTime": {
     "end_time": "2025-08-31T10:19:13.489895Z",
     "start_time": "2025-08-31T10:19:13.438696Z"
    }
   },
   "cell_type": "code",
   "source": [
    "plt.figure(figsize=(20, 10))\n",
    "plt.imshow(h.abs() > 0.99, cmap='gray', interpolation='nearest')"
   ],
   "id": "66b459bfc3d84641",
   "outputs": [
    {
     "data": {
      "text/plain": [
       "<matplotlib.image.AxesImage at 0x118644c20>"
      ]
     },
     "execution_count": 15,
     "metadata": {},
     "output_type": "execute_result"
    },
    {
     "data": {
      "text/plain": [
       "<Figure size 2000x1000 with 1 Axes>"
      ],
      "image/png": "[encoded data removed]"
     },
     "metadata": {},
     "output_type": "display_data",
     "jetTransient": {
      "display_id": null
     }
    }
   ],
   "execution_count": 15
  },
  {
   "metadata": {
    "ExecuteTime": {
     "end_time": "2025-08-31T10:20:01.284501Z",
     "start_time": "2025-08-31T10:19:14.617739Z"
    }
   },
   "cell_type": "code",
   "source": "lossi_tr, bnmean_running, bnstd_running = train_step(x_tr, y_tr, C, W1, W2, B2, parameters, bngain, bnbias, bnmean_running, bnstd_running, 0.1, 0.01, 100000, batch_size=128)",
   "id": "789834f878a7b652",
   "outputs": [
    {
     "name": "stdout",
     "output_type": "stream",
     "text": [
      "Step 0, Loss: 3.3097546100616455\n",
      "Step 1000, Loss: 2.6530816555023193\n",
      "Step 2000, Loss: 2.414304256439209\n",
      "Step 3000, Loss: 2.446986198425293\n",
      "Step 4000, Loss: 2.614358425140381\n",
      "Step 5000, Loss: 2.3698081970214844\n",
      "Step 6000, Loss: 2.45259428024292\n",
      "Step 7000, Loss: 2.5141384601593018\n",
      "Step 8000, Loss: 2.4765257835388184\n",
      "Step 9000, Loss: 2.267771005630493\n",
      "Step 10000, Loss: 2.453202962875366\n",
      "Step 11000, Loss: 2.3826117515563965\n",
      "Step 12000, Loss: 2.2502171993255615\n",
      "Step 13000, Loss: 2.1734845638275146\n",
      "Step 14000, Loss: 2.0910425186157227\n",
      "Step 15000, Loss: 2.297679901123047\n",
      "Step 16000, Loss: 2.152761459350586\n",
      "Step 17000, Loss: 2.2874197959899902\n",
      "Step 18000, Loss: 2.195643901824951\n",
      "Step 19000, Loss: 1.9524483680725098\n",
      "Step 20000, Loss: 2.2150721549987793\n",
      "Step 21000, Loss: 2.1994528770446777\n",
      "Step 22000, Loss: 2.1587443351745605\n",
      "Step 23000, Loss: 2.1935973167419434\n",
      "Step 24000, Loss: 2.257155418395996\n",
      "Step 25000, Loss: 2.43051815032959\n",
      "Step 26000, Loss: 2.229520559310913\n",
      "Step 27000, Loss: 2.0052456855773926\n",
      "Step 28000, Loss: 2.066236972808838\n",
      "Step 29000, Loss: 2.0461878776550293\n",
      "Step 30000, Loss: 1.9485610723495483\n",
      "Step 31000, Loss: 2.098036289215088\n",
      "Step 32000, Loss: 2.1852097511291504\n",
      "Step 33000, Loss: 2.217381238937378\n",
      "Step 34000, Loss: 2.22538423538208\n",
      "Step 35000, Loss: 2.135350465774536\n",
      "Step 36000, Loss: 2.166091203689575\n",
      "Step 37000, Loss: 2.2435925006866455\n",
      "Step 38000, Loss: 1.9690417051315308\n",
      "Step 39000, Loss: 2.178612232208252\n",
      "Step 40000, Loss: 1.9642689228057861\n",
      "Step 41000, Loss: 2.165679454803467\n",
      "Step 42000, Loss: 2.2038707733154297\n",
      "Step 43000, Loss: 2.066147804260254\n",
      "Step 44000, Loss: 2.0304372310638428\n",
      "Step 45000, Loss: 2.0390384197235107\n",
      "Step 46000, Loss: 2.140637159347534\n",
      "Step 47000, Loss: 2.1777873039245605\n",
      "Step 48000, Loss: 2.2079882621765137\n",
      "Step 49000, Loss: 2.085554361343384\n",
      "Step 50000, Loss: 1.9831867218017578\n",
      "Step 51000, Loss: 2.0617644786834717\n",
      "Step 52000, Loss: 2.0756897926330566\n",
      "Step 53000, Loss: 2.184288740158081\n",
      "Step 54000, Loss: 2.055903673171997\n",
      "Step 55000, Loss: 2.146826982498169\n",
      "Step 56000, Loss: 1.9601318836212158\n",
      "Step 57000, Loss: 2.0771687030792236\n",
      "Step 58000, Loss: 2.0949013233184814\n",
      "Step 59000, Loss: 2.2362561225891113\n",
      "Step 60000, Loss: 2.101961135864258\n",
      "Step 61000, Loss: 2.0544960498809814\n",
      "Step 62000, Loss: 2.001420736312866\n",
      "Step 63000, Loss: 2.1561267375946045\n",
      "Step 64000, Loss: 2.0263969898223877\n",
      "Step 65000, Loss: 2.000030517578125\n",
      "Step 66000, Loss: 1.9170730113983154\n",
      "Step 67000, Loss: 2.095975399017334\n",
      "Step 68000, Loss: 2.0634925365448\n",
      "Step 69000, Loss: 2.3911027908325195\n",
      "Step 70000, Loss: 1.9895223379135132\n",
      "Step 71000, Loss: 2.1334850788116455\n",
      "Step 72000, Loss: 1.9932674169540405\n",
      "Step 73000, Loss: 1.9510436058044434\n",
      "Step 74000, Loss: 2.2510342597961426\n",
      "Step 75000, Loss: 2.2189269065856934\n",
      "Step 76000, Loss: 2.109705686569214\n",
      "Step 77000, Loss: 2.061183452606201\n",
      "Step 78000, Loss: 2.0267651081085205\n",
      "Step 79000, Loss: 2.044926166534424\n",
      "Step 80000, Loss: 2.1648306846618652\n",
      "Step 81000, Loss: 1.9445018768310547\n",
      "Step 82000, Loss: 2.0905096530914307\n",
      "Step 83000, Loss: 2.0413706302642822\n",
      "Step 84000, Loss: 1.8220387697219849\n",
      "Step 85000, Loss: 2.0300140380859375\n",
      "Step 86000, Loss: 2.0329766273498535\n",
      "Step 87000, Loss: 2.0047595500946045\n",
      "Step 88000, Loss: 2.3739564418792725\n",
      "Step 89000, Loss: 2.1055748462677\n",
      "Step 90000, Loss: 1.824629783630371\n",
      "Step 91000, Loss: 1.9573254585266113\n",
      "Step 92000, Loss: 2.048870801925659\n",
      "Step 93000, Loss: 2.0432751178741455\n",
      "Step 94000, Loss: 2.0665524005889893\n",
      "Step 95000, Loss: 2.11152720451355\n",
      "Step 96000, Loss: 2.0930113792419434\n",
      "Step 97000, Loss: 2.1671671867370605\n",
      "Step 98000, Loss: 1.9464958906173706\n",
      "Step 99000, Loss: 2.0662074089050293\n"
     ]
    }
   ],
   "execution_count": 16
  },
  {
   "metadata": {
    "ExecuteTime": {
     "end_time": "2025-08-31T10:20:35.595809Z",
     "start_time": "2025-08-31T10:20:35.399068Z"
    }
   },
   "cell_type": "code",
   "source": [
    "print(data_nll(x_tr, y_tr, C, W1, W2, B2, bngain, bnbias, bnmean_running, bnstd_running))\n",
    "print(data_nll(x_dev, y_dev, C, W1, W2, B2, bngain, bnbias, bnmean_running, bnstd_running))\n",
    "print(data_nll(x_te, y_te, C, W1, W2, B2, bngain, bnbias, bnmean_running, bnstd_running))"
   ],
   "id": "5a68b2cea2d19743",
   "outputs": [
    {
     "name": "stdout",
     "output_type": "stream",
     "text": [
      "2.2149605751037598\n",
      "2.284895181655884\n",
      "2.2787888050079346\n"
     ]
    }
   ],
   "execution_count": 17
  },
  {
   "metadata": {
    "ExecuteTime": {
     "end_time": "2025-08-31T10:20:38.486080Z",
     "start_time": "2025-08-31T10:20:38.476938Z"
    }
   },
   "cell_type": "code",
   "source": "generate(C, W1, W2, B2, bngain, bnbias, bnmean_running, bnstd_running, itos)",
   "id": "7c914a8fe0e14b1",
   "outputs": [
    {
     "name": "stdout",
     "output_type": "stream",
     "text": [
      "celia\n",
      "coullura\n",
      "cari\n",
      "yan\n",
      "kalima\n"
     ]
    }
   ],
   "execution_count": 18
  }
 ],
 "metadata": {
  "kernelspec": {
   "display_name": "Python 3",
   "language": "python",
   "name": "python3"
  },
  "language_info": {
   "codemirror_mode": {
    "name": "ipython",
    "version": 2
   },
   "file_extension": ".py",
   "mimetype": "text/x-python",
   "name": "python",
   "nbconvert_exporter": "python",
   "pygments_lexer": "ipython2",
   "version": "2.7.6"
  }
 },
 "nbformat": 4,
 "nbformat_minor": 5
}
