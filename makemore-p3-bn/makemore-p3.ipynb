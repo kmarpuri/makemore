{
 "cells": [
  {
   "metadata": {
    "ExecuteTime": {
     "end_time": "2025-09-09T18:32:38.504681Z",
     "start_time": "2025-09-09T18:32:38.022504Z"
    }
   },
   "cell_type": "code",
   "source": [
    "import random\n",
    "import torch\n",
    "import torch.nn.functional as F\n",
    "import matplotlib.pyplot as plt\n",
    "from torch.utils.backcompat import keepdim_warning\n",
    "%matplotlib inline"
   ],
   "id": "e7a1038aee09dd62",
   "outputs": [],
   "execution_count": 1
  },
  {
   "metadata": {
    "ExecuteTime": {
     "end_time": "2025-09-09T18:32:38.515695Z",
     "start_time": "2025-09-09T18:32:38.507306Z"
    }
   },
   "cell_type": "code",
   "source": [
    "words = open('names.txt', 'r').read().splitlines()\n",
    "random.seed(2147483647)\n",
    "random.shuffle(words)\n",
    "n = len(words)\n",
    "\n",
    "n_train = int(0.8 * n)\n",
    "n_dev = int(0.1 * n)\n",
    "\n",
    "words_train = words[:n_train]\n",
    "words_dev = words[n_train:n_train + n_dev]\n",
    "words_test = words[n_train + n_dev:]\n",
    "\n",
    "chars = sorted(list(set(''.join(words))))\n",
    "stoi = {s:i+1 for i, s in enumerate(chars)}\n",
    "stoi['.'] = 0\n",
    "itos = {i:s for s, i in stoi.items()}\n",
    "vocab_size = len(stoi)"
   ],
   "id": "5a497d4893b395d0",
   "outputs": [],
   "execution_count": 2
  },
  {
   "metadata": {
    "ExecuteTime": {
     "end_time": "2025-09-09T18:42:18.914242Z",
     "start_time": "2025-09-09T18:42:18.908972Z"
    }
   },
   "cell_type": "code",
   "source": [
    "def build_xy(words, stoi, block_size=3):\n",
    "    x, y = [], []\n",
    "    for w in words[:]:\n",
    "        context = [0] * block_size\n",
    "        for ch in w + '.':\n",
    "            ix = stoi[ch]\n",
    "            x.append(context)\n",
    "            y.append(ix)\n",
    "            context = context[1:] + [ix]\n",
    "    X, Y = torch.tensor(x), torch.tensor(y)\n",
    "    return X, Y\n",
    "\n",
    "def data_nll(x, y, C, W1, W2, B2, bngain, bnbias, bnmean_running, bnstd_running, smoothing=0.05, eps=1e-5):\n",
    "    emb = C[x]\n",
    "    embcat = emb.view(emb.shape[0], -1)\n",
    "    hpreact = embcat @ W1\n",
    "    hpreact = bngain * ((hpreact - bnmean_running) / (bnstd_running ** 2 + eps) ** 0.5) + bnbias\n",
    "    h = torch.tanh(hpreact)\n",
    "    logits = h @ W2 + B2\n",
    "    return F.cross_entropy(logits, y, label_smoothing=smoothing).item()\n",
    "\n",
    "def train_step(x, y, C, W1, W2, B2, parameters, bngain, bnbias, bnmean_running, bnstd_running, lr1=0.1, lr2=None, steps=10, batch_size=32):\n",
    "    lossi = []\n",
    "    for i in range(steps):\n",
    "        ix = torch.randint(0, x.shape[0], (batch_size,))\n",
    "        xb, yb = x[ix], y[ix]\n",
    "        emb = C[xb]\n",
    "        embcat = emb.view(emb.shape[0], -1)\n",
    "        hpreact = embcat @ W1\n",
    "        bnmeani = hpreact.mean(0, keepdim=True)\n",
    "        bnstdi = hpreact.std(0, keepdim=True)\n",
    "        hpreact = bngain * ((hpreact - bnmeani) / bnstdi) + bnbias\n",
    "\n",
    "        with torch.no_grad():\n",
    "            bnmean_running = 0.999 * bnmean_running + 0.001 * bnmeani\n",
    "            bnstd_running = 0.999 * bnstd_running + 0.001 * bnstdi\n",
    "\n",
    "        h = torch.tanh(hpreact)\n",
    "        logits = h @ W2 + B2\n",
    "        loss = F.cross_entropy(logits, yb)\n",
    "        for p in parameters:\n",
    "            p.grad = None\n",
    "        loss.backward()\n",
    "        lr = lr1 if lr2 is None or i > 10000 else lr2\n",
    "        with torch.no_grad():\n",
    "            for p in parameters:\n",
    "                p.data += -lr * p.grad\n",
    "        lossi.append(loss.item())\n",
    "        if i % 1000 == 0:\n",
    "            print(f\"Step {i}, Loss: {loss.item()}\")\n",
    "    return lossi, bnmean_running, bnstd_running\n",
    "\n",
    "def generate(C, W1, W2, B2, bngain, bnbias, bnmean_running, bnstd_running, itos, block_size=3, seed=2147483647, num_samples=5, eps=1e-5):\n",
    "    g = torch.Generator().manual_seed(seed)\n",
    "    for _ in range(num_samples):\n",
    "        out = []\n",
    "        context = [0] * block_size\n",
    "        while True:\n",
    "            ctx = torch.tensor(context)\n",
    "            emb = C[ctx]\n",
    "            embcat = emb.view(1, -1)\n",
    "            hpreact = embcat @ W1\n",
    "            hpreact = bngain * ((hpreact - bnmean_running) / (bnstd_running ** 2 + eps) ** 0.5) + bnbias\n",
    "            h = torch.tanh(hpreact)\n",
    "            logits = h @ W2 + B2\n",
    "            p = logits.squeeze(0).softmax(dim=0)\n",
    "            ix = torch.multinomial(p, num_samples=1, replacement=True, generator=g).item()\n",
    "            context = context[1:] + [ix]\n",
    "            if ix == 0:\n",
    "                break\n",
    "            else:\n",
    "                out.append(ix)\n",
    "        print(''.join(itos[i] for i in out))"
   ],
   "id": "d99edba0fda4c59a",
   "outputs": [],
   "execution_count": 13
  },
  {
   "metadata": {
    "ExecuteTime": {
     "end_time": "2025-09-09T18:32:41.131579Z",
     "start_time": "2025-09-09T18:32:40.980378Z"
    }
   },
   "cell_type": "code",
   "source": [
    "x_tr, y_tr = build_xy(words_train, stoi)\n",
    "x_dev, y_dev = build_xy(words_dev, stoi)\n",
    "x_te, y_te = build_xy(words_test, stoi)"
   ],
   "id": "a09e120754f3751a",
   "outputs": [],
   "execution_count": 4
  },
  {
   "metadata": {
    "ExecuteTime": {
     "end_time": "2025-09-09T18:32:41.982021Z",
     "start_time": "2025-09-09T18:32:41.976338Z"
    }
   },
   "cell_type": "code",
   "source": [
    "n_emb = 10\n",
    "n_hidden = 200\n",
    "block_size = 3\n",
    "fan_in = n_emb * block_size\n",
    "\n",
    "g = torch.Generator().manual_seed(2147483647)\n",
    "C = torch.randn((vocab_size, n_emb),                generator=g)\n",
    "W1 = torch.randn((fan_in, n_hidden),    generator=g) * (5 / 3) / (fan_in + n_hidden) ** 0.5\n",
    "#B1 = torch.randn(n_hidden,                          generator=g) * 0.01\n",
    "W2 = torch.randn((n_hidden, vocab_size),            generator=g) * 0.01\n",
    "B2 = torch.randn(vocab_size,                        generator=g) * 0\n",
    "\n",
    "bngain = torch.ones((1, n_hidden))\n",
    "bnbias = torch.zeros((1, n_hidden))\n",
    "bnmean_running = torch.zeros((1, n_hidden))\n",
    "bnstd_running = torch.ones((1, n_hidden))\n",
    "\n",
    "parameters = [C, W1, W2, B2, bngain, bnbias]\n",
    "for p in parameters:\n",
    "    p.requires_grad = True\n",
    "print(sum(p.nelement() for p in parameters))\n",
    "\n",
    "ix = torch.randint(0, x_tr.shape[0], (32,))\n",
    "xb, yb = x_tr[ix], y_tr[ix]\n",
    "emb = C[xb]\n",
    "embcat = emb.view(emb.shape[0], -1)\n",
    "hpreact = embcat @ W1\n",
    "h = torch.tanh(hpreact)\n",
    "logits = h @ W2 + B2\n",
    "loss = F.cross_entropy(logits, yb)\n",
    "print(loss.item())"
   ],
   "id": "f90cab7b588bf4b3",
   "outputs": [
    {
     "name": "stdout",
     "output_type": "stream",
     "text": [
      "12097\n",
      "3.2899913787841797\n"
     ]
    }
   ],
   "execution_count": 5
  },
  {
   "metadata": {
    "ExecuteTime": {
     "end_time": "2025-09-09T18:32:43.820043Z",
     "start_time": "2025-09-09T18:32:43.732140Z"
    }
   },
   "cell_type": "code",
   "source": "plt.hist(h.view(-1).tolist(), 50)",
   "id": "847aa661c1f4f70f",
   "outputs": [
    {
     "data": {
      "text/plain": [
       "(array([ 14.,  27.,  32.,  77.,  83.,  75.,  97., 109., 127., 143., 118.,\n",
       "        137., 142., 139., 163., 173., 141., 150., 135., 157., 191., 175.,\n",
       "        177., 185., 175., 142., 196., 163., 170., 165., 160., 148., 160.,\n",
       "        158., 149., 169., 148., 166., 169., 135., 147., 141., 113., 101.,\n",
       "        101.,  88.,  67.,  50.,  34.,  18.]),\n",
       " array([-0.97529256, -0.9361553 , -0.89701805, -0.85788079, -0.81874353,\n",
       "        -0.77960627, -0.74046901, -0.70133175, -0.6621945 , -0.62305724,\n",
       "        -0.58391998, -0.54478272, -0.50564546, -0.4665082 , -0.42737094,\n",
       "        -0.38823369, -0.34909643, -0.30995917, -0.27082191, -0.23168465,\n",
       "        -0.19254739, -0.15341013, -0.11427288, -0.07513562, -0.03599836,\n",
       "         0.0031389 ,  0.04227616,  0.08141342,  0.12055068,  0.15968793,\n",
       "         0.19882519,  0.23796245,  0.27709971,  0.31623697,  0.35537423,\n",
       "         0.39451149,  0.43364874,  0.472786  ,  0.51192326,  0.55106052,\n",
       "         0.59019778,  0.62933504,  0.66847229,  0.70760955,  0.74674681,\n",
       "         0.78588407,  0.82502133,  0.86415859,  0.90329585,  0.9424331 ,\n",
       "         0.98157036]),\n",
       " <BarContainer object of 50 artists>)"
      ]
     },
     "execution_count": 6,
     "metadata": {},
     "output_type": "execute_result"
    },
    {
     "data": {
      "text/plain": [
       "<Figure size 640x480 with 1 Axes>"
      ],
      "image/png": "[encoded data removed]"
     },
     "metadata": {},
     "output_type": "display_data",
     "jetTransient": {
      "display_id": null
     }
    }
   ],
   "execution_count": 6
  },
  {
   "metadata": {
    "ExecuteTime": {
     "end_time": "2025-09-09T18:32:44.768718Z",
     "start_time": "2025-09-09T18:32:44.712170Z"
    }
   },
   "cell_type": "code",
   "source": [
    "plt.figure(figsize=(20, 10))\n",
    "plt.imshow(h.abs() > 0.99, cmap='gray', interpolation='nearest')"
   ],
   "id": "66b459bfc3d84641",
   "outputs": [
    {
     "data": {
      "text/plain": [
       "<matplotlib.image.AxesImage at 0x126e9bcb0>"
      ]
     },
     "execution_count": 7,
     "metadata": {},
     "output_type": "execute_result"
    },
    {
     "data": {
      "text/plain": [
       "<Figure size 2000x1000 with 1 Axes>"
      ],
      "image/png": "[encoded data removed]"
     },
     "metadata": {},
     "output_type": "display_data",
     "jetTransient": {
      "display_id": null
     }
    }
   ],
   "execution_count": 7
  },
  {
   "metadata": {
    "ExecuteTime": {
     "end_time": "2025-09-09T18:37:23.713826Z",
     "start_time": "2025-09-09T18:36:20.237545Z"
    }
   },
   "cell_type": "code",
   "source": "lossi_tr, bnmean_running, bnstd_running = train_step(x_tr, y_tr, C, W1, W2, B2, parameters, bngain, bnbias, bnmean_running, bnstd_running, 0.1, 0.01, 100000, batch_size=128)",
   "id": "789834f878a7b652",
   "outputs": [
    {
     "name": "stdout",
     "output_type": "stream",
     "text": [
      "Step 0, Loss: 2.065232992172241\n",
      "Step 1000, Loss: 2.1163413524627686\n",
      "Step 2000, Loss: 1.9083670377731323\n",
      "Step 3000, Loss: 2.057676076889038\n",
      "Step 4000, Loss: 2.1777937412261963\n",
      "Step 5000, Loss: 2.1640491485595703\n",
      "Step 6000, Loss: 2.097494125366211\n",
      "Step 7000, Loss: 2.1100919246673584\n",
      "Step 8000, Loss: 1.9735642671585083\n",
      "Step 9000, Loss: 2.088982343673706\n",
      "Step 10000, Loss: 1.9987491369247437\n",
      "Step 11000, Loss: 1.8947741985321045\n",
      "Step 12000, Loss: 1.913456678390503\n",
      "Step 13000, Loss: 2.0095787048339844\n",
      "Step 14000, Loss: 2.0499422550201416\n",
      "Step 15000, Loss: 1.8393901586532593\n",
      "Step 16000, Loss: 2.0674452781677246\n",
      "Step 17000, Loss: 2.0355732440948486\n",
      "Step 18000, Loss: 1.9902844429016113\n",
      "Step 19000, Loss: 2.056243658065796\n",
      "Step 20000, Loss: 2.0741970539093018\n",
      "Step 21000, Loss: 2.103822946548462\n",
      "Step 22000, Loss: 2.0187435150146484\n",
      "Step 23000, Loss: 2.2288501262664795\n",
      "Step 24000, Loss: 1.9764504432678223\n",
      "Step 25000, Loss: 2.111845016479492\n",
      "Step 26000, Loss: 2.1458356380462646\n",
      "Step 27000, Loss: 2.154665231704712\n",
      "Step 28000, Loss: 1.9689013957977295\n",
      "Step 29000, Loss: 2.0113980770111084\n",
      "Step 30000, Loss: 2.1921162605285645\n",
      "Step 31000, Loss: 1.9705942869186401\n",
      "Step 32000, Loss: 2.102228879928589\n",
      "Step 33000, Loss: 2.0074191093444824\n",
      "Step 34000, Loss: 1.9542332887649536\n",
      "Step 35000, Loss: 2.142378568649292\n",
      "Step 36000, Loss: 2.04402494430542\n",
      "Step 37000, Loss: 1.9754456281661987\n",
      "Step 38000, Loss: 1.80586576461792\n",
      "Step 39000, Loss: 2.0729739665985107\n",
      "Step 40000, Loss: 1.9401090145111084\n",
      "Step 41000, Loss: 2.069636821746826\n",
      "Step 42000, Loss: 2.1823294162750244\n",
      "Step 43000, Loss: 2.2238800525665283\n",
      "Step 44000, Loss: 1.9165135622024536\n",
      "Step 45000, Loss: 2.1467339992523193\n",
      "Step 46000, Loss: 1.745493769645691\n",
      "Step 47000, Loss: 2.1772990226745605\n",
      "Step 48000, Loss: 2.0111422538757324\n",
      "Step 49000, Loss: 1.9782098531723022\n",
      "Step 50000, Loss: 1.8260010480880737\n",
      "Step 51000, Loss: 2.0337893962860107\n",
      "Step 52000, Loss: 1.9266337156295776\n",
      "Step 53000, Loss: 2.0264997482299805\n",
      "Step 54000, Loss: 2.066343307495117\n",
      "Step 55000, Loss: 2.1482434272766113\n",
      "Step 56000, Loss: 2.2210097312927246\n",
      "Step 57000, Loss: 2.2312042713165283\n",
      "Step 58000, Loss: 2.1941750049591064\n",
      "Step 59000, Loss: 2.075875759124756\n",
      "Step 60000, Loss: 1.9138811826705933\n",
      "Step 61000, Loss: 1.9530671834945679\n",
      "Step 62000, Loss: 2.11727237701416\n",
      "Step 63000, Loss: 1.9992841482162476\n",
      "Step 64000, Loss: 2.031658411026001\n",
      "Step 65000, Loss: 2.1256535053253174\n",
      "Step 66000, Loss: 1.9896941184997559\n",
      "Step 67000, Loss: 2.100212574005127\n",
      "Step 68000, Loss: 2.0227856636047363\n",
      "Step 69000, Loss: 2.172462224960327\n",
      "Step 70000, Loss: 2.189610242843628\n",
      "Step 71000, Loss: 2.075659990310669\n",
      "Step 72000, Loss: 1.9734773635864258\n",
      "Step 73000, Loss: 2.1273796558380127\n",
      "Step 74000, Loss: 1.9819482564926147\n",
      "Step 75000, Loss: 2.0294342041015625\n",
      "Step 76000, Loss: 2.0380587577819824\n",
      "Step 77000, Loss: 2.089712381362915\n",
      "Step 78000, Loss: 1.9311367273330688\n",
      "Step 79000, Loss: 1.884749412536621\n",
      "Step 80000, Loss: 2.0419347286224365\n",
      "Step 81000, Loss: 1.979506015777588\n",
      "Step 82000, Loss: 2.0566201210021973\n",
      "Step 83000, Loss: 2.0315825939178467\n",
      "Step 84000, Loss: 1.971915364265442\n",
      "Step 85000, Loss: 2.1611695289611816\n",
      "Step 86000, Loss: 2.0181918144226074\n",
      "Step 87000, Loss: 2.24954891204834\n",
      "Step 88000, Loss: 1.8124738931655884\n",
      "Step 89000, Loss: 2.0775234699249268\n",
      "Step 90000, Loss: 2.153270959854126\n",
      "Step 91000, Loss: 2.114368200302124\n",
      "Step 92000, Loss: 2.135913133621216\n",
      "Step 93000, Loss: 2.3734521865844727\n",
      "Step 94000, Loss: 2.0312044620513916\n",
      "Step 95000, Loss: 2.1013729572296143\n",
      "Step 96000, Loss: 1.8780699968338013\n",
      "Step 97000, Loss: 1.8808492422103882\n",
      "Step 98000, Loss: 2.1303982734680176\n",
      "Step 99000, Loss: 2.2563860416412354\n"
     ]
    }
   ],
   "execution_count": 11
  },
  {
   "metadata": {
    "ExecuteTime": {
     "end_time": "2025-09-09T18:37:23.908550Z",
     "start_time": "2025-09-09T18:37:23.723453Z"
    }
   },
   "cell_type": "code",
   "source": [
    "print(data_nll(x_tr, y_tr, C, W1, W2, B2, bngain, bnbias, bnmean_running, bnstd_running))\n",
    "print(data_nll(x_dev, y_dev, C, W1, W2, B2, bngain, bnbias, bnmean_running, bnstd_running))"
   ],
   "id": "5a68b2cea2d19743",
   "outputs": [
    {
     "name": "stdout",
     "output_type": "stream",
     "text": [
      "2.218135118484497\n",
      "2.300053358078003\n"
     ]
    }
   ],
   "execution_count": 12
  },
  {
   "metadata": {
    "ExecuteTime": {
     "end_time": "2025-09-09T18:54:33.831010Z",
     "start_time": "2025-09-09T18:54:33.825716Z"
    }
   },
   "cell_type": "code",
   "source": "generate(C, W1, W2, B2, bngain, bnbias, bnmean_running, bnstd_running, itos)",
   "id": "7c914a8fe0e14b1",
   "outputs": [
    {
     "name": "stdout",
     "output_type": "stream",
     "text": [
      "celi\n",
      "aleah\n",
      "makilah\n",
      "tyha\n",
      "lolivitta\n"
     ]
    }
   ],
   "execution_count": 14
  }
 ],
 "metadata": {
  "kernelspec": {
   "display_name": "Python 3",
   "language": "python",
   "name": "python3"
  },
  "language_info": {
   "codemirror_mode": {
    "name": "ipython",
    "version": 2
   },
   "file_extension": ".py",
   "mimetype": "text/x-python",
   "name": "python",
   "nbconvert_exporter": "python",
   "pygments_lexer": "ipython2",
   "version": "2.7.6"
  }
 },
 "nbformat": 4,
 "nbformat_minor": 5
}
