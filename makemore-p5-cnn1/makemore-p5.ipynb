{
 "cells": [
  {
   "cell_type": "code",
   "id": "initial_id",
   "metadata": {
    "collapsed": true,
    "ExecuteTime": {
     "end_time": "2025-09-10T20:22:26.408690Z",
     "start_time": "2025-09-10T20:22:25.873650Z"
    }
   },
   "source": [
    "import random\n",
    "import torch\n",
    "import torch.nn.functional as F\n",
    "import matplotlib.pyplot as plt\n",
    "%matplotlib inline"
   ],
   "outputs": [],
   "execution_count": 1
  },
  {
   "metadata": {
    "ExecuteTime": {
     "end_time": "2025-09-10T20:22:26.419440Z",
     "start_time": "2025-09-10T20:22:26.411114Z"
    }
   },
   "cell_type": "code",
   "source": [
    "words = open('names.txt', 'r').read().splitlines()\n",
    "random.seed(2147483647)\n",
    "random.shuffle(words)\n",
    "n = len(words)\n",
    "\n",
    "n_train = int(0.8 * n)\n",
    "n_dev = int(0.1 * n)\n",
    "\n",
    "words_train = words[:n_train]\n",
    "words_dev = words[n_train:n_train + n_dev]\n",
    "words_test = words[n_train + n_dev:]\n",
    "\n",
    "chars = sorted(list(set(''.join(words))))\n",
    "stoi = {s:i+1 for i, s in enumerate(chars)}\n",
    "stoi['.'] = 0\n",
    "itos = {i:s for s, i in stoi.items()}\n",
    "vocab_size = len(stoi)"
   ],
   "id": "7889b62ec7c68cec",
   "outputs": [],
   "execution_count": 2
  },
  {
   "metadata": {
    "ExecuteTime": {
     "end_time": "2025-09-10T20:22:26.424098Z",
     "start_time": "2025-09-10T20:22:26.421495Z"
    }
   },
   "cell_type": "code",
   "source": [
    "def build_xy(words, stoi, block_size):\n",
    "    x, y = [], []\n",
    "    for w in words[:]:\n",
    "        context = [0] * block_size\n",
    "        for ch in w + '.':\n",
    "            ix = stoi[ch]\n",
    "            x.append(context)\n",
    "            y.append(ix)\n",
    "            context = context[1:] + [ix]\n",
    "    X, Y = torch.tensor(x), torch.tensor(y)\n",
    "    return X, Y\n",
    "\n",
    "def data_nll(X, Y, model):\n",
    "    with torch.no_grad():\n",
    "        logits = model(X)\n",
    "        loss = F.cross_entropy(logits, Y)\n",
    "        return loss.item()\n",
    "\n",
    "def generate(itos, model, block_size, seed=2147483647, num_samples=5):\n",
    "    with torch.no_grad():\n",
    "        g = torch.Generator().manual_seed(seed)\n",
    "        for i in range (num_samples):\n",
    "            out = []\n",
    "            context = [0] * block_size\n",
    "            while True:\n",
    "                probs = F.softmax(model(torch.tensor([context])), dim=1)\n",
    "                ix = torch.multinomial(probs, num_samples=1, generator=g).item()\n",
    "                context = context[1:] + [ix]\n",
    "                if ix == 0:\n",
    "                    break\n",
    "                out.append(ix)\n",
    "            print(''.join(itos[i] for i in out))"
   ],
   "id": "72583bdfd0b6fbf4",
   "outputs": [],
   "execution_count": 3
  },
  {
   "metadata": {
    "ExecuteTime": {
     "end_time": "2025-09-10T20:22:26.429579Z",
     "start_time": "2025-09-10T20:22:26.425787Z"
    }
   },
   "cell_type": "code",
   "source": [
    "class Linear:\n",
    "    def __init__(self, fan_in, fan_out, bias=True):\n",
    "        self.weight = torch.randn((fan_in, fan_out)) / (fan_in ** 0.5)\n",
    "        self.bias = torch.zeros(fan_out) if bias else None\n",
    "\n",
    "    def __call__(self, x):\n",
    "        self.out = x @ self.weight\n",
    "        if self.bias is not None:\n",
    "            self.out += self.bias\n",
    "        return self.out\n",
    "\n",
    "    def parameters(self):\n",
    "        return [self.weight] + ([] if self.bias is None else [self.bias])\n",
    "#-----------------------------------------------------------------------------------------------#\n",
    "class BatchNorm1d:\n",
    "    def __init__(self, dim, eps=1e-5, momentum=0.1):\n",
    "        self.eps = eps\n",
    "        self.momentum = momentum\n",
    "        self.training = True\n",
    "        self.gamma = torch.ones(dim)\n",
    "        self.beta = torch.zeros(dim)\n",
    "        self.running_mean = torch.zeros(dim)\n",
    "        self.running_var = torch.ones(dim)\n",
    "\n",
    "    def __call__(self, x):\n",
    "        dim = None\n",
    "        if self.training:\n",
    "            if x.ndim == 2:\n",
    "                dim = (0)\n",
    "            elif x.ndim == 3:\n",
    "                dim = (0, 1)\n",
    "            xmean = x.mean(dim, keepdim=True)\n",
    "            xvar = x.var(dim, keepdim=True, unbiased=False)\n",
    "        else:\n",
    "            xmean = self.running_mean\n",
    "            xvar = self.running_var\n",
    "        xhat = (x - xmean) / torch.sqrt(xvar + self.eps)\n",
    "        self.out = self.gamma * xhat + self.beta\n",
    "        if self.training:\n",
    "            with torch.no_grad():\n",
    "                self.running_mean = self.running_mean * (1 - self.momentum) + xmean * self.momentum\n",
    "                self.running_var = self.running_var * (1 - self.momentum) + xvar * self.momentum\n",
    "        return self.out\n",
    "\n",
    "    def parameters(self):\n",
    "        return [self.gamma, self.beta]\n",
    "#-----------------------------------------------------------------------------------------------#\n",
    "class Tanh:\n",
    "    def __call__(self, x):\n",
    "        self.out = torch.tanh(x)\n",
    "        return self.out\n",
    "\n",
    "    def parameters(self):\n",
    "        return []\n",
    "#-----------------------------------------------------------------------------------------------#\n",
    "class Embedding:\n",
    "    def __init__(self, num_embeddings, embedding_dim):\n",
    "        self.weight = torch.randn((num_embeddings, embedding_dim))\n",
    "\n",
    "    def __call__(self, IX):\n",
    "        self.out = self.weight[IX]\n",
    "        return self.out\n",
    "\n",
    "    def parameters(self):\n",
    "        return [self.weight]\n",
    "#-----------------------------------------------------------------------------------------------#\n",
    "class FlattenConsecutive:\n",
    "    def __init__(self, n):\n",
    "        self.n = n\n",
    "\n",
    "    def __call__(self, x):\n",
    "        B, T, C = x.shape\n",
    "        x = x.view(B, T // self.n, C * self.n)\n",
    "        if x.shape[1] == 1:\n",
    "            x = x.squeeze(1)\n",
    "        self.out = x\n",
    "        return self.out\n",
    "\n",
    "    def parameters(self):\n",
    "        return []\n",
    "#-----------------------------------------------------------------------------------------------#\n",
    "class Sequential:\n",
    "    def __init__(self, layers):\n",
    "        self.layers = layers\n",
    "\n",
    "    def __call__(self, x):\n",
    "        for layer in self.layers:\n",
    "            x = layer(x)\n",
    "        return x\n",
    "\n",
    "    def parameters(self):\n",
    "        return [p for layer in self.layers for p in layer.parameters()]"
   ],
   "id": "a163a44def169db7",
   "outputs": [],
   "execution_count": 4
  },
  {
   "metadata": {
    "ExecuteTime": {
     "end_time": "2025-09-10T20:22:26.455691Z",
     "start_time": "2025-09-10T20:22:26.454306Z"
    }
   },
   "cell_type": "code",
   "source": "g = torch.Generator().manual_seed(2147483647)",
   "id": "19c1483bc47521ab",
   "outputs": [],
   "execution_count": 5
  },
  {
   "metadata": {
    "ExecuteTime": {
     "end_time": "2025-09-10T20:22:27.306232Z",
     "start_time": "2025-09-10T20:22:26.767802Z"
    }
   },
   "cell_type": "code",
   "source": [
    "block_size = 32\n",
    "\n",
    "Xtr, Ytr = build_xy(words_train, stoi, block_size)\n",
    "Xdev, Ydev = build_xy(words_dev, stoi, block_size)\n",
    "Xte, Yte = build_xy(words_test, stoi, block_size)"
   ],
   "id": "5ff03e2a15b643ed",
   "outputs": [],
   "execution_count": 6
  },
  {
   "metadata": {
    "ExecuteTime": {
     "end_time": "2025-09-10T20:22:27.340490Z",
     "start_time": "2025-09-10T20:22:27.336650Z"
    }
   },
   "cell_type": "code",
   "source": [
    "n_embd = 32\n",
    "n_hidden = 128\n",
    "\n",
    "model = Sequential([\n",
    "    Embedding(vocab_size, n_embd),\n",
    "    FlattenConsecutive(2), Linear(n_embd * 2, n_hidden, bias=False), BatchNorm1d(n_hidden), Tanh(),\n",
    "    FlattenConsecutive(2), Linear(n_hidden * 2, n_hidden, bias=False), BatchNorm1d(n_hidden), Tanh(),\n",
    "    FlattenConsecutive(2), Linear(n_hidden * 2, n_hidden, bias=False), BatchNorm1d(n_hidden), Tanh(),\n",
    "    FlattenConsecutive(2), Linear(n_hidden * 2, n_hidden, bias=False), BatchNorm1d(n_hidden), Tanh(),\n",
    "    FlattenConsecutive(2), Linear(n_hidden * 2, n_hidden, bias=False), BatchNorm1d(n_hidden), Tanh(),\n",
    "    Linear(n_hidden, vocab_size),\n",
    "])\n",
    "\n",
    "with torch.no_grad():\n",
    "    model.layers[-1].weight *= 0.1\n",
    "\n",
    "parameters = model.parameters()\n",
    "print(sum(p.nelement() for p in parameters))\n",
    "for p in parameters:\n",
    "    p.requires_grad = True\n",
    "lossi = []"
   ],
   "id": "ae70150d9ff539d7",
   "outputs": [
    {
     "name": "stdout",
     "output_type": "stream",
     "text": [
      "144891\n"
     ]
    }
   ],
   "execution_count": 7
  },
  {
   "metadata": {
    "ExecuteTime": {
     "end_time": "2025-09-10T20:54:49.210569Z",
     "start_time": "2025-09-10T20:54:42.219958Z"
    }
   },
   "cell_type": "code",
   "source": [
    "steps = 100000\n",
    "batch_size = 128\n",
    "for i in range(steps):\n",
    "    ix = torch.randint(0, Xtr.shape[0], (batch_size,), generator=g)\n",
    "    Xb, Yb = Xtr[ix], Ytr[ix]\n",
    "\n",
    "    loss = F.cross_entropy(model(Xb), Yb)\n",
    "\n",
    "    for p in parameters:\n",
    "        p.grad = None\n",
    "    loss.backward()\n",
    "\n",
    "    lr = 0.0001 if i < 25000 else 0.00001 if i < 50000 else 0.000001\n",
    "    for p in parameters:\n",
    "        p.data += -lr * p.grad\n",
    "\n",
    "    if i % 10000 == 0:\n",
    "        print(f'{i}/{steps}: {loss.item()}')\n",
    "    lossi.append(loss.item())\n",
    "    if i == 0:\n",
    "        best_dev_loss = data_nll(Xdev, Ydev, model)\n",
    "    if i % 1000 == 0 and i > 0 * steps:\n",
    "        dev_loss = data_nll(Xdev, Ydev, model)\n",
    "        if dev_loss <= best_dev_loss:\n",
    "            min = dev_loss\n",
    "        else:\n",
    "            print(i)\n",
    "            break"
   ],
   "id": "4a8e5196e6952761",
   "outputs": [
    {
     "name": "stdout",
     "output_type": "stream",
     "text": [
      "0/100000: 1.7000434398651123\n",
      "1000\n"
     ]
    }
   ],
   "execution_count": 14
  },
  {
   "metadata": {
    "ExecuteTime": {
     "end_time": "2025-09-10T20:56:06.185126Z",
     "start_time": "2025-09-10T20:56:06.080969Z"
    }
   },
   "cell_type": "code",
   "source": "plt.plot(torch.tensor(lossi).view(-1, 1).mean(1))",
   "id": "16a63db1595f5979",
   "outputs": [
    {
     "data": {
      "text/plain": [
       "[<matplotlib.lines.Line2D at 0x119e4c2d0>]"
      ]
     },
     "execution_count": 17,
     "metadata": {},
     "output_type": "execute_result"
    },
    {
     "data": {
      "text/plain": [
       "<Figure size 640x480 with 1 Axes>"
      ],
      "image/png": "[encoded data removed]"
     },
     "metadata": {},
     "output_type": "display_data",
     "jetTransient": {
      "display_id": null
     }
    }
   ],
   "execution_count": 17
  },
  {
   "metadata": {
    "ExecuteTime": {
     "end_time": "2025-09-10T20:56:10.854854Z",
     "start_time": "2025-09-10T20:56:09.463729Z"
    }
   },
   "cell_type": "code",
   "source": [
    "for layer in model.layers:\n",
    "    if isinstance(layer, BatchNorm1d):\n",
    "        layer.training = False\n",
    "\n",
    "print(data_nll(Xtr, Ytr, model))\n",
    "print(data_nll(Xdev, Ydev, model))"
   ],
   "id": "f4e60e62e7f8ae61",
   "outputs": [
    {
     "name": "stdout",
     "output_type": "stream",
     "text": [
      "1.755741834640503\n",
      "2.049940586090088\n"
     ]
    }
   ],
   "execution_count": 18
  },
  {
   "metadata": {},
   "cell_type": "markdown",
   "source": [
    "Original (block_size = 3):\n",
    "\n",
    "test:\n",
    "2.0619866847991943\n",
    "\n",
    "dev:\n",
    "2.1212077140808105\n",
    "\n",
    "Modified (block_size = 8):\n",
    "\n",
    "test:\n",
    "1.9272838830947876\n",
    "\n",
    "dev:\n",
    "2.0354456901550293\n",
    "\n",
    "Flattened (block_size = 8):\n",
    "\n",
    "test:\n",
    "1.9598515033721924\n",
    "\n",
    "dev:\n",
    "2.039992094039917\n",
    "\n",
    "Fixed BatchNorm1d (block_size = 8):\n",
    "\n",
    "test:\n",
    "1.9308412075042725\n",
    "\n",
    "dev:\n",
    "2.0306339263916016\n",
    "\n",
    "Increased elements (block_size = 32):\n",
    "\n",
    "test:\n",
    "1.755741834640503\n",
    "\n",
    "dev:\n",
    "2.049940586090088"
   ],
   "id": "6c72b2bcb70c3f7d"
  },
  {
   "metadata": {
    "ExecuteTime": {
     "end_time": "2025-09-10T20:56:45.647622Z",
     "start_time": "2025-09-10T20:56:45.620704Z"
    }
   },
   "cell_type": "code",
   "source": "generate(itos, model, block_size)",
   "id": "10c06f7748496e2b",
   "outputs": [
    {
     "name": "stdout",
     "output_type": "stream",
     "text": [
      "cexie\n",
      "mouhamik\n",
      "carvin\n",
      "kellie\n",
      "janaiyah\n"
     ]
    }
   ],
   "execution_count": 19
  },
  {
   "metadata": {
    "ExecuteTime": {
     "end_time": "2025-09-10T20:57:05.350857Z",
     "start_time": "2025-09-10T20:57:05.209363Z"
    }
   },
   "cell_type": "code",
   "source": "print(data_nll(Xte, Yte, model))",
   "id": "9a6d6ce2c8f65cb8",
   "outputs": [
    {
     "name": "stdout",
     "output_type": "stream",
     "text": [
      "2.049665689468384\n"
     ]
    }
   ],
   "execution_count": 20
  },
  {
   "metadata": {},
   "cell_type": "markdown",
   "source": "Final Test Loss: 2.049665689468384",
   "id": "d9b46ea689d619b3"
  }
 ],
 "metadata": {
  "kernelspec": {
   "display_name": "Python 3",
   "language": "python",
   "name": "python3"
  },
  "language_info": {
   "codemirror_mode": {
    "name": "ipython",
    "version": 2
   },
   "file_extension": ".py",
   "mimetype": "text/x-python",
   "name": "python",
   "nbconvert_exporter": "python",
   "pygments_lexer": "ipython2",
   "version": "2.7.6"
  }
 },
 "nbformat": 4,
 "nbformat_minor": 5
}
