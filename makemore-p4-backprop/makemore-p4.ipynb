{
 "cells": [
  {
   "cell_type": "code",
   "id": "a2fefc4a5a866905",
   "metadata": {
    "ExecuteTime": {
     "end_time": "2025-09-09T18:42:57.794950Z",
     "start_time": "2025-09-09T18:42:57.142210Z"
    }
   },
   "source": [
    "import random\n",
    "from random import Random\n",
    "\n",
    "import torch\n",
    "import torch.nn.functional as F\n",
    "import matplotlib.pyplot as plt\n",
    "%matplotlib inline"
   ],
   "outputs": [],
   "execution_count": 1
  },
  {
   "metadata": {
    "ExecuteTime": {
     "end_time": "2025-09-09T18:42:57.805793Z",
     "start_time": "2025-09-09T18:42:57.797625Z"
    }
   },
   "cell_type": "code",
   "source": [
    "words = open('names.txt', 'r').read().splitlines()\n",
    "random.seed(2147483647)\n",
    "random.shuffle(words)\n",
    "n = len(words)\n",
    "\n",
    "n_train = int(0.8 * n)\n",
    "n_dev = int(0.1 * n)\n",
    "\n",
    "words_train = words[:n_train]\n",
    "words_dev = words[n_train:n_train + n_dev]\n",
    "words_test = words[n_train + n_dev:]\n",
    "\n",
    "chars = sorted(list(set(''.join(words))))\n",
    "stoi = {s:i+1 for i, s in enumerate(chars)}\n",
    "stoi['.'] = 0\n",
    "itos = {i:s for s, i in stoi.items()}\n",
    "vocab_size = len(stoi)"
   ],
   "id": "5367667ef13e1d16",
   "outputs": [],
   "execution_count": 2
  },
  {
   "metadata": {
    "ExecuteTime": {
     "end_time": "2025-09-09T18:42:57.809434Z",
     "start_time": "2025-09-09T18:42:57.807933Z"
    }
   },
   "cell_type": "code",
   "source": [
    "def cmp(s, dt, t):\n",
    "    ex = torch.all(dt == t.grad).item()\n",
    "    app = torch.allclose(dt, t.grad)\n",
    "    maxdiff = (dt - t.grad).abs().max().item()\n",
    "    print(f'{s:15s} | exact: {str(ex):5s} | approx: {str(app):5s} | maxdiff: {maxdiff}')"
   ],
   "id": "89ea2f0063447a1a",
   "outputs": [],
   "execution_count": 3
  },
  {
   "metadata": {
    "ExecuteTime": {
     "end_time": "2025-09-09T18:52:54.245555Z",
     "start_time": "2025-09-09T18:52:54.235324Z"
    }
   },
   "cell_type": "code",
   "source": [
    "def build_xy(words, stoi, block_size=3):\n",
    "    x, y = [], []\n",
    "    for w in words[:]:\n",
    "        context = [0] * block_size\n",
    "        for ch in w + '.':\n",
    "            ix = stoi[ch]\n",
    "            x.append(context)\n",
    "            y.append(ix)\n",
    "            context = context[1:] + [ix]\n",
    "    X, Y = torch.tensor(x), torch.tensor(y)\n",
    "    return X, Y\n",
    "\n",
    "def data_nll(x, y, C, W1, W2, B2, bngain, bnbias, bnmean_running, bnstd_running, smoothing=0.05, eps=1e-5):\n",
    "    emb = C[x]\n",
    "    embcat = emb.view(emb.shape[0], -1)\n",
    "    hpreact = embcat @ W1\n",
    "    hpreact = bngain * ((hpreact - bnmean_running) / (bnstd_running ** 2 + eps) ** 0.5) + bnbias\n",
    "    h = torch.tanh(hpreact)\n",
    "    logits = h @ W2 + B2\n",
    "    return F.cross_entropy(logits, y, label_smoothing=smoothing).item()\n",
    "\n",
    "def train_step(x, y, C, W1, W2, B2, parameters, bngain, bnbias, bnmean_running, bnstd_running, lr1=0.1, lr2=None, steps=10, batch_size=32):\n",
    "    lossi = []\n",
    "    with torch.no_grad():\n",
    "        for i in range(steps):\n",
    "            ix = torch.randint(0, x.shape[0], (batch_size,))\n",
    "            xb, yb = x[ix], y[ix]\n",
    "            emb = C[xb]\n",
    "            embcat = emb.view(emb.shape[0], -1)\n",
    "            hpreact = embcat @ W1\n",
    "            bnmeani = hpreact.mean(0, keepdim=True)\n",
    "            bnstdi = hpreact.std(0, keepdim=True)\n",
    "            bnraw = (hpreact - bnmeani) / bnstdi\n",
    "            hpreact = bngain * bnraw + bnbias\n",
    "            bnvar_inv = 1.0 / (bnstdi ** 2 + 1e-5)\n",
    "\n",
    "            with torch.no_grad():\n",
    "                bnmean_running = 0.999 * bnmean_running + 0.001 * bnmeani\n",
    "                bnstd_running = 0.999 * bnstd_running + 0.001 * bnstdi\n",
    "\n",
    "            h = torch.tanh(hpreact)\n",
    "            logits = h @ W2 + B2\n",
    "            loss = F.cross_entropy(logits, yb)\n",
    "            for p in parameters:\n",
    "                p.grad = None\n",
    "            grads = backward_pass(xb, yb, C, emb, embcat, h, W1, W2, batch_size, logits, bnraw, bngain, bnvar_inv)\n",
    "            for p, g in zip(parameters, grads):\n",
    "                p.grad = g\n",
    "            lr = lr1 if lr2 is None or i > 10000 else lr2\n",
    "            with torch.no_grad():\n",
    "                for p in parameters:\n",
    "                    p.data += -lr * p.grad\n",
    "            lossi.append(loss.item())\n",
    "            if i % 1000 == 0:\n",
    "                print(f\"Step {i}, Loss: {loss.item()}\")\n",
    "        return lossi, bnmean_running, bnstd_running\n",
    "\n",
    "def generate(C, W1, W2, B2, bngain, bnbias, bnmean_running, bnstd_running, itos, block_size=3, seed=2147483647, num_samples=5, eps=1e-5):\n",
    "    g = torch.Generator().manual_seed(seed)\n",
    "    for _ in range(num_samples):\n",
    "        out = []\n",
    "        context = [0] * block_size\n",
    "        while True:\n",
    "            ctx = torch.tensor(context)\n",
    "            emb = C[ctx]\n",
    "            embcat = emb.view(1, -1)\n",
    "            hpreact = embcat @ W1\n",
    "            hpreact = bngain * ((hpreact - bnmean_running) / (bnstd_running ** 2 + eps) ** 0.5) + bnbias\n",
    "            h = torch.tanh(hpreact)\n",
    "            logits = h @ W2 + B2\n",
    "            p = logits.squeeze(0).softmax(dim=0)\n",
    "            ix = torch.multinomial(p, num_samples=1, replacement=True, generator=g).item()\n",
    "            context = context[1:] + [ix]\n",
    "            if ix == 0:\n",
    "                break\n",
    "            else:\n",
    "                out.append(ix)\n",
    "        print(''.join(itos[i] for i in out))\n",
    "\n",
    "def backward_pass(Xb, Yb, C, emb, embcat, h, W1, W2, n, logits, bnraw, bngain, bnvar_inv):\n",
    "\n",
    "    dlogits = F.softmax(logits, 1)\n",
    "    dlogits[range(n), Yb] -= 1\n",
    "    dlogits /= n\n",
    "\n",
    "    dh = dlogits @ W2.T\n",
    "    dW2 = h.T @ dlogits\n",
    "    dB2 = dlogits.sum(0)\n",
    "\n",
    "    dhpreact = (1.0 - h ** 2) * dh\n",
    "\n",
    "    dbngain = (bnraw * dhpreact).sum(0, keepdim=True)\n",
    "    dbnbias = dhpreact.sum(0, keepdim=True)\n",
    "\n",
    "    dhprebn = bngain * bnvar_inv / n * (n * dhpreact - dhpreact.sum(0) - n / (n - 1) * bnraw * (dhpreact * bnraw).sum(0))\n",
    "\n",
    "    dembcat = dhprebn @ W1.T\n",
    "    dW1 = embcat.T @ dhprebn\n",
    "    demb = dembcat.view(emb.shape)\n",
    "    dC = torch.zeros_like(C)\n",
    "    for i in range(Xb.shape[0]):\n",
    "        for j in range(Xb.shape[1]):\n",
    "            ix = Xb[i, j]\n",
    "            dC[ix] += demb[i, j]\n",
    "\n",
    "    grads = [dC, dW1, dW2, dB2, dbngain, dbnbias]\n",
    "\n",
    "    return grads\n"
   ],
   "id": "d0e71bb7bb18b277",
   "outputs": [],
   "execution_count": 12
  },
  {
   "metadata": {
    "ExecuteTime": {
     "end_time": "2025-09-09T18:42:57.950455Z",
     "start_time": "2025-09-09T18:42:57.818814Z"
    }
   },
   "cell_type": "code",
   "source": [
    "Xtr, Ytr = build_xy(words_train, stoi)\n",
    "Xdev, Ydev = build_xy(words_dev, stoi)\n",
    "Xte, Yte = build_xy(words_test, stoi)"
   ],
   "id": "4d3f691150757f06",
   "outputs": [],
   "execution_count": 5
  },
  {
   "metadata": {
    "ExecuteTime": {
     "end_time": "2025-09-09T18:42:58.828088Z",
     "start_time": "2025-09-09T18:42:58.824875Z"
    }
   },
   "cell_type": "code",
   "source": [
    "n_emb = 10\n",
    "n_hidden = 64\n",
    "block_size = 3\n",
    "\n",
    "g = torch.Generator().manual_seed(2147483647)\n",
    "C = torch.randn((vocab_size, n_emb),                generator=g)\n",
    "W1 = torch.randn((n_emb * block_size, n_hidden),    generator=g) * (5 / 3) / (n_emb * block_size) ** 0.5\n",
    "#B1 = torch.randn(n_hidden,                          generator=g) * 0.1\n",
    "W2 = torch.randn((n_hidden, vocab_size),            generator=g) * 0.1\n",
    "B2 = torch.randn(vocab_size,                        generator=g) * 0.1\n",
    "\n",
    "bngain = torch.ones((1, n_hidden)) * 0.1 + 1\n",
    "bnbias = torch.zeros((1, n_hidden)) * 0.1\n",
    "bnmean_running = torch.zeros((1, n_hidden))\n",
    "bnstd_running = torch.ones((1, n_hidden))\n",
    "\n",
    "parameters = [C, W1, W2, B2, bngain, bnbias]\n",
    "print(sum(p.nelement() for p in parameters))\n",
    "for p in parameters:\n",
    "    p.requires_grad = True"
   ],
   "id": "f3285b079c86e561",
   "outputs": [
    {
     "name": "stdout",
     "output_type": "stream",
     "text": [
      "4073\n"
     ]
    }
   ],
   "execution_count": 6
  },
  {
   "metadata": {
    "ExecuteTime": {
     "end_time": "2025-09-09T18:42:59.689620Z",
     "start_time": "2025-09-09T18:42:59.687251Z"
    }
   },
   "cell_type": "code",
   "source": [
    "batch_size = 128\n",
    "n = batch_size\n",
    "\n",
    "ix = torch.randint(0, Xtr.shape[0], (batch_size,), generator=g)\n",
    "Xb, Yb = Xtr[ix], Ytr[ix]"
   ],
   "id": "a1d637225c088e7b",
   "outputs": [],
   "execution_count": 7
  },
  {
   "metadata": {
    "ExecuteTime": {
     "end_time": "2025-09-09T18:45:49.502247Z",
     "start_time": "2025-09-09T18:43:00.717711Z"
    }
   },
   "cell_type": "code",
   "source": "lossi, bnmean_running, bnstd_running = train_step(Xtr, Ytr, C, W1, W2, B2, parameters, bngain, bnbias, bnmean_running, bnstd_running, lr1=0.1, lr2=0.01, steps=100000, batch_size=n)",
   "id": "514e516c7a336920",
   "outputs": [
    {
     "name": "stdout",
     "output_type": "stream",
     "text": [
      "Step 0, Loss: 3.4886906147003174\n",
      "Step 1000, Loss: 2.693060874938965\n",
      "Step 2000, Loss: 2.586390256881714\n",
      "Step 3000, Loss: 2.5295629501342773\n",
      "Step 4000, Loss: 2.6111199855804443\n",
      "Step 5000, Loss: 2.3618762493133545\n",
      "Step 6000, Loss: 2.602396249771118\n",
      "Step 7000, Loss: 2.5475893020629883\n",
      "Step 8000, Loss: 2.4084579944610596\n",
      "Step 9000, Loss: 2.4761176109313965\n",
      "Step 10000, Loss: 2.5534629821777344\n",
      "Step 11000, Loss: 2.528238296508789\n",
      "Step 12000, Loss: 2.4177894592285156\n",
      "Step 13000, Loss: 2.396249532699585\n",
      "Step 14000, Loss: 2.351808786392212\n",
      "Step 15000, Loss: 2.330160617828369\n",
      "Step 16000, Loss: 2.285564422607422\n",
      "Step 17000, Loss: 2.1952757835388184\n",
      "Step 18000, Loss: 2.2243423461914062\n",
      "Step 19000, Loss: 2.191953182220459\n",
      "Step 20000, Loss: 2.2538888454437256\n",
      "Step 21000, Loss: 2.200437068939209\n",
      "Step 22000, Loss: 2.2638981342315674\n",
      "Step 23000, Loss: 2.1789591312408447\n",
      "Step 24000, Loss: 2.121102809906006\n",
      "Step 25000, Loss: 2.210395097732544\n",
      "Step 26000, Loss: 2.1049230098724365\n",
      "Step 27000, Loss: 2.3179426193237305\n",
      "Step 28000, Loss: 2.093778610229492\n",
      "Step 29000, Loss: 2.263364553451538\n",
      "Step 30000, Loss: 2.028552770614624\n",
      "Step 31000, Loss: 2.256265878677368\n",
      "Step 32000, Loss: 2.1995036602020264\n",
      "Step 33000, Loss: 2.192643642425537\n",
      "Step 34000, Loss: 2.0885064601898193\n",
      "Step 35000, Loss: 2.3598921298980713\n",
      "Step 36000, Loss: 2.2227346897125244\n",
      "Step 37000, Loss: 2.1561460494995117\n",
      "Step 38000, Loss: 2.203989028930664\n",
      "Step 39000, Loss: 2.1035828590393066\n",
      "Step 40000, Loss: 2.175349235534668\n",
      "Step 41000, Loss: 2.2166712284088135\n",
      "Step 42000, Loss: 2.0766408443450928\n",
      "Step 43000, Loss: 2.294304132461548\n",
      "Step 44000, Loss: 2.1715023517608643\n",
      "Step 45000, Loss: 2.227863073348999\n",
      "Step 46000, Loss: 2.103872537612915\n",
      "Step 47000, Loss: 2.1452856063842773\n",
      "Step 48000, Loss: 2.108586072921753\n",
      "Step 49000, Loss: 2.1151649951934814\n",
      "Step 50000, Loss: 2.2422902584075928\n",
      "Step 51000, Loss: 2.3328497409820557\n",
      "Step 52000, Loss: 2.1480612754821777\n",
      "Step 53000, Loss: 2.2774555683135986\n",
      "Step 54000, Loss: 2.252135753631592\n",
      "Step 55000, Loss: 2.038325786590576\n",
      "Step 56000, Loss: 2.1871087551116943\n",
      "Step 57000, Loss: 2.2376670837402344\n",
      "Step 58000, Loss: 2.1867775917053223\n",
      "Step 59000, Loss: 2.0974223613739014\n",
      "Step 60000, Loss: 2.0965723991394043\n",
      "Step 61000, Loss: 2.2582321166992188\n",
      "Step 62000, Loss: 2.2443909645080566\n",
      "Step 63000, Loss: 1.9700764417648315\n",
      "Step 64000, Loss: 2.201096296310425\n",
      "Step 65000, Loss: 2.284838914871216\n",
      "Step 66000, Loss: 2.310936212539673\n",
      "Step 67000, Loss: 1.9926844835281372\n",
      "Step 68000, Loss: 2.3755571842193604\n",
      "Step 69000, Loss: 2.291210412979126\n",
      "Step 70000, Loss: 2.269556999206543\n",
      "Step 71000, Loss: 2.210723638534546\n",
      "Step 72000, Loss: 2.0545690059661865\n",
      "Step 73000, Loss: 2.2194619178771973\n",
      "Step 74000, Loss: 2.3016531467437744\n",
      "Step 75000, Loss: 2.3337817192077637\n",
      "Step 76000, Loss: 2.1001663208007812\n",
      "Step 77000, Loss: 2.038097381591797\n",
      "Step 78000, Loss: 2.2041807174682617\n",
      "Step 79000, Loss: 2.2116799354553223\n",
      "Step 80000, Loss: 2.206592559814453\n",
      "Step 81000, Loss: 2.2322020530700684\n",
      "Step 82000, Loss: 2.1962504386901855\n",
      "Step 83000, Loss: 1.9131275415420532\n",
      "Step 84000, Loss: 2.1293861865997314\n",
      "Step 85000, Loss: 2.048612594604492\n",
      "Step 86000, Loss: 2.290912628173828\n",
      "Step 87000, Loss: 2.164299964904785\n",
      "Step 88000, Loss: 2.1495325565338135\n",
      "Step 89000, Loss: 2.0895984172821045\n",
      "Step 90000, Loss: 2.342345714569092\n",
      "Step 91000, Loss: 2.145338773727417\n",
      "Step 92000, Loss: 2.175424575805664\n",
      "Step 93000, Loss: 2.036647081375122\n",
      "Step 94000, Loss: 2.079381227493286\n",
      "Step 95000, Loss: 2.0761783123016357\n",
      "Step 96000, Loss: 2.2003073692321777\n",
      "Step 97000, Loss: 2.218071699142456\n",
      "Step 98000, Loss: 1.9348523616790771\n",
      "Step 99000, Loss: 2.083106756210327\n"
     ]
    }
   ],
   "execution_count": 8
  },
  {
   "metadata": {
    "ExecuteTime": {
     "end_time": "2025-09-09T18:45:49.549441Z",
     "start_time": "2025-09-09T18:45:49.509682Z"
    }
   },
   "cell_type": "code",
   "source": [
    "print(data_nll(Xtr, Ytr, C, W1, W2, B2, bngain, bnbias, bnmean_running, bnstd_running))\n",
    "print(data_nll(Xdev, Ydev, C, W1, W2, B2, bngain, bnbias, bnmean_running, bnstd_running))"
   ],
   "id": "e4ff80f81ce019e4",
   "outputs": [
    {
     "name": "stdout",
     "output_type": "stream",
     "text": [
      "2.2942135334014893\n",
      "2.3270814418792725\n"
     ]
    }
   ],
   "execution_count": 9
  },
  {
   "metadata": {
    "ExecuteTime": {
     "end_time": "2025-09-09T18:52:57.084011Z",
     "start_time": "2025-09-09T18:52:57.076229Z"
    }
   },
   "cell_type": "code",
   "source": [
    "generate(C, W1, W2, B2, bngain, bnbias, bnmean_running, bnstd_running, itos)\n",
    "# Not great samples, but at least not complete gibberish"
   ],
   "id": "24c8ab43161a5f56",
   "outputs": [
    {
     "name": "stdout",
     "output_type": "stream",
     "text": [
      "cexbe\n",
      "moullurailah\n",
      "tymarionichana\n",
      "noluwan\n",
      "kata\n"
     ]
    }
   ],
   "execution_count": 13
  },
  {
   "metadata": {},
   "cell_type": "code",
   "source": [
    "\"\"\"\n",
    "emb = C[Xb]\n",
    "embcat = emb.view(emb.shape[0], -1)\n",
    "\n",
    "#Linear Layer 1\n",
    "hprebn = embcat @ W1\n",
    "\n",
    "#BatchNorm Layer\n",
    "bnmeani = 1 / n * hprebn.sum(0, keepdim=True)\n",
    "bndiff1 = hprebn - bnmeani\n",
    "bndiff2 = bndiff1 ** 2\n",
    "bnvar = 1 / (n - 1) * (bndiff2).sum(0, keepdim=True)\n",
    "bnvar_inv = (bnvar + 1e-5) ** -0.5\n",
    "bnraw = bndiff1 * bnvar_inv\n",
    "hpreact = bngain * bnraw + bnbias\n",
    "h = torch.tanh(hpreact)\n",
    "\n",
    "#Linear Layer 2\n",
    "logits = h @ W2 + B2\n",
    "\n",
    "#Cross Entropy Loss\n",
    "logit_maxes = logits.max(1, keepdim=True).values\n",
    "norm_logits = logits - logit_maxes\n",
    "counts = norm_logits.exp()\n",
    "counts_sum = counts.sum(1, keepdim=True)\n",
    "counts_sum_inv = counts_sum ** -1\n",
    "probs = counts * counts_sum_inv\n",
    "logprobs = probs.log()\n",
    "loss = -logprobs[range(n), Yb].mean()\n",
    "\n",
    "#Backward Pass\n",
    "for p in parameters:\n",
    "    p.grad = None\n",
    "for t in [logprobs, probs, counts, counts_sum, counts_sum_inv, norm_logits, logit_maxes, logits, h, hpreact, bnraw, bnvar_inv, bnvar, bndiff2, bndiff1, hprebn, bnmeani, embcat, emb]:\n",
    "    t.retain_grad()\n",
    "loss.backward()\n",
    "loss.item()\n",
    "\"\"\""
   ],
   "id": "3fe3fa423583275",
   "outputs": [],
   "execution_count": null
  },
  {
   "metadata": {},
   "cell_type": "code",
   "source": [
    "\"\"\"\n",
    "counts.shape, probs.shape, counts_sum_inv.shape\n",
    "\"\"\""
   ],
   "id": "f0b28bafa7b8a302",
   "outputs": [],
   "execution_count": null
  },
  {
   "metadata": {},
   "cell_type": "code",
   "source": [
    "\"\"\"\n",
    "# Manually compute all the gradients\n",
    "dlogprobs = torch.zeros_like(logprobs)\n",
    "dlogprobs[range(n), Yb] = -1.0 / n\n",
    "dprobs = dlogprobs / probs\n",
    "dcounts_sum_inv = (counts * dprobs).sum(1, keepdim=True)\n",
    "dcounts_sum = (-counts_sum ** -2) * dcounts_sum_inv\n",
    "dcounts = counts_sum_inv * dprobs + torch.ones_like(counts) * dcounts_sum\n",
    "dnorm_logits = counts * dcounts\n",
    "dlogit_maxes = (-dnorm_logits).sum(1, keepdim=True)\n",
    "dlogits = dnorm_logits.clone() + F.one_hot(logits.max(1).indices, num_classes=logits.shape[1]) * dlogit_maxes\n",
    "dh = dlogits @ W2.T\n",
    "dW2 = h.T @ dlogits\n",
    "dB2 = dlogits.sum(0)\n",
    "dhpreact = (1.0 - h ** 2) * dh\n",
    "dbngain = (bnraw * dhpreact).sum(0, keepdim=True)\n",
    "dbnbias = dhpreact.sum(0, keepdim=True)\n",
    "dbnraw = bngain * dhpreact\n",
    "dbnvar_inv = (bndiff1 * dbnraw).sum(0, keepdim=True)\n",
    "dbnvar = -0.5 * (bnvar + 1e-5) ** -1.5 * dbnvar_inv\n",
    "dbndiff2 = 1 / (n - 1) * torch.ones_like(bndiff2) * dbnvar\n",
    "dbndiff1 = bnvar_inv * dbnraw + 2 * bndiff1 * dbndiff2\n",
    "dbmeani = (-dbndiff1).sum(0, keepdim=True)\n",
    "dhprebn = dbndiff1.clone() + 1.0 / n * (torch.ones_like(hprebn) * dbmeani)\n",
    "dembcat = dhprebn @ W1.T\n",
    "dW1 = embcat.T @ dhprebn\n",
    "demb = dembcat.view(emb.shape)\n",
    "dC = torch.zeros_like(C)\n",
    "for i in range(Xb.shape[0]):\n",
    "    for j in range(Xb.shape[1]):\n",
    "        ix = Xb[i, j]\n",
    "        dC[ix] += demb[i, j]\n",
    "\n",
    "cmp('logprobs', dlogprobs, logprobs)\n",
    "cmp('probs', dprobs, probs)\n",
    "cmp('counts_sum_inv', dcounts_sum_inv, counts_sum_inv)\n",
    "cmp('counts_sum', dcounts_sum, counts_sum)\n",
    "cmp('counts', dcounts, counts)\n",
    "cmp('norm_logits', dnorm_logits, norm_logits)\n",
    "cmp('dlogit_maxes', dlogit_maxes, logit_maxes)\n",
    "cmp('logits', dlogits, logits)\n",
    "cmp('h', dh, h)\n",
    "cmp('W2', dW2, W2)\n",
    "cmp('B2', dB2, B2)\n",
    "cmp('hpreact', dhpreact, hpreact)\n",
    "cmp('bngain', dbngain, bngain)\n",
    "cmp('bnbias', dbnbias, bnbias)\n",
    "cmp('bnraw', dbnraw, bnraw)\n",
    "cmp('bnvar_inv', dbnvar_inv, bnvar_inv)\n",
    "cmp('bnvar', dbnvar, bnvar)\n",
    "cmp('bndiff2', dbndiff2, bndiff2)\n",
    "cmp('bndiff1', dbndiff1, bndiff1)\n",
    "cmp('bnmeani', dbmeani, bnmeani)\n",
    "cmp('hprebn', dhprebn, hprebn)\n",
    "cmp('embcat', dembcat, embcat)\n",
    "cmp('W1', dW1, W1)\n",
    "cmp('emb', demb, emb)\n",
    "cmp('C', dC, C)\n",
    "\"\"\""
   ],
   "id": "cc3155199ad06bac",
   "outputs": [],
   "execution_count": null
  },
  {
   "metadata": {},
   "cell_type": "code",
   "source": [
    "\"\"\"\n",
    "# More effecient way to compute dlogits manually\n",
    "dlogits = F.softmax(logits, 1)\n",
    "dlogits[range(n), Yb] -= 1\n",
    "dlogits /= n\n",
    "cmp('logits', dlogits, logits)\n",
    "\"\"\""
   ],
   "id": "39a3986636cd0056",
   "outputs": [],
   "execution_count": null
  },
  {
   "metadata": {},
   "cell_type": "code",
   "source": [
    "\"\"\"\n",
    "# More efficient way to compute dhprebn manually\n",
    "dhprebn = bngain * bnvar_inv / n * (n * dhpreact - dhpreact.sum(0) - n / (n - 1) * bnraw * (dhpreact * bnraw).sum(0))\n",
    "cmp('hprebn', dhprebn, hprebn)\n",
    "\"\"\""
   ],
   "id": "ba2791f2987e6f17",
   "outputs": [],
   "execution_count": null
  }
 ],
 "metadata": {
  "kernelspec": {
   "display_name": ".venv",
   "language": "python",
   "name": "python3"
  },
  "language_info": {
   "codemirror_mode": {
    "name": "ipython",
    "version": 2
   },
   "file_extension": ".py",
   "mimetype": "text/x-python",
   "name": "python",
   "nbconvert_exporter": "python",
   "pygments_lexer": "ipython2",
   "version": "3.13.7"
  }
 },
 "nbformat": 4,
 "nbformat_minor": 5
}
